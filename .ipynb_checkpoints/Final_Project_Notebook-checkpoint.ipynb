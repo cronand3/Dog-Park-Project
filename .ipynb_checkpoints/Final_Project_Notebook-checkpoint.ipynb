{
 "cells": [
  {
   "cell_type": "markdown",
   "metadata": {},
   "source": [
    "# Dog Park \"Pupularity\" Patterns"
   ]
  },
  {
   "cell_type": "markdown",
   "metadata": {
    "collapsed": true
   },
   "source": [
    "### Sydney Smith, Jared Mohammed, Ally Cronander, & Marilyn Lalrindiki\n"
   ]
  },
  {
   "cell_type": "markdown",
   "metadata": {},
   "source": [
    "<img src=\"https://cdn.vox-cdn.com/thumbor/SF6piad06hSD8E9dKKLyJWPpTzY=/0x0:6500x2600/1200x800/filters:focal(3179x641:4219x1681)/cdn.vox-cdn.com/uploads/chorus_image/image/56352925/Fetch_Park_8.24.17.0.jpg\" width=400px>"
   ]
  },
  {
   "cell_type": "markdown",
   "metadata": {},
   "source": [
    "Dog parks’ popularity varies depending on the day and time. Ingham County dog parks operate under a locked gate and key fob system to ensure all dogs entering the park are registered and vaccinated. Data from these gates has been recorded, including who comes in and who leaves at what times.This data can be used to model the popularity of the park.\n",
    "\n",
    "The focal points that are being targeted are as follows:\n",
    " \n",
    "* How has the popularity of the dog park changed by year?\n",
    "\n",
    "* Which day of the week is the most popular?\n",
    "\n",
    "* What time of the day is the most popular?\n",
    "\n",
    "* Which days of the month are most popular?\n",
    "\n",
    "* How does weather affect the popularity of the dog park for a week?\n",
    "\n",
    "* How does the climate affect the popularity over the year?\n",
    "\n",
    "* How can we predict the number of scans in a day based off of temperature?\n",
    "\n"
   ]
  },
  {
   "cell_type": "code",
   "execution_count": 1,
   "metadata": {},
   "outputs": [],
   "source": [
    "# For the Professors grading this notebook:\n",
    "#!git clone "
   ]
  },
  {
   "cell_type": "code",
   "execution_count": 2,
   "metadata": {},
   "outputs": [],
   "source": [
    "# import needed modules\n",
    "import pandas as pd\n",
    "import numpy as np\n",
    "import datetime as dt\n",
    "from datetime import time\n",
    "import matplotlib.pyplot as plt\n",
    "%matplotlib inline\n",
    "import random"
   ]
  },
  {
   "cell_type": "code",
   "execution_count": 3,
   "metadata": {
    "scrolled": true
   },
   "outputs": [
    {
     "data": {
      "text/html": [
       "<div>\n",
       "<style scoped>\n",
       "    .dataframe tbody tr th:only-of-type {\n",
       "        vertical-align: middle;\n",
       "    }\n",
       "\n",
       "    .dataframe tbody tr th {\n",
       "        vertical-align: top;\n",
       "    }\n",
       "\n",
       "    .dataframe thead th {\n",
       "        text-align: right;\n",
       "    }\n",
       "</style>\n",
       "<table border=\"1\" class=\"dataframe\">\n",
       "  <thead>\n",
       "    <tr style=\"text-align: right;\">\n",
       "      <th></th>\n",
       "      <th>Unnamed: 0</th>\n",
       "      <th>names</th>\n",
       "      <th>times</th>\n",
       "      <th>valid</th>\n",
       "    </tr>\n",
       "  </thead>\n",
       "  <tbody>\n",
       "    <tr>\n",
       "      <th>0</th>\n",
       "      <td>0</td>\n",
       "      <td>bdjdaabeacjjbibbafjcjdjfaibib</td>\n",
       "      <td>1/1/2012   8:31:46AM</td>\n",
       "      <td>Valid Access</td>\n",
       "    </tr>\n",
       "    <tr>\n",
       "      <th>1</th>\n",
       "      <td>1</td>\n",
       "      <td>abjejijgjejjbiagjebib</td>\n",
       "      <td>1/1/2012  10:27:20AM</td>\n",
       "      <td>Valid Access</td>\n",
       "    </tr>\n",
       "    <tr>\n",
       "      <th>2</th>\n",
       "      <td>2</td>\n",
       "      <td>abjejijgjejjbiagjebib</td>\n",
       "      <td>1/1/2012  10:52:26AM</td>\n",
       "      <td>Valid Access</td>\n",
       "    </tr>\n",
       "    <tr>\n",
       "      <th>3</th>\n",
       "      <td>3</td>\n",
       "      <td>jeaajfaijijdjjbijdjcbdjcbbbbaabib</td>\n",
       "      <td>1/1/2012  10:52:48AM</td>\n",
       "      <td>Valid Access</td>\n",
       "    </tr>\n",
       "    <tr>\n",
       "      <th>4</th>\n",
       "      <td>4</td>\n",
       "      <td>jeaajfaijijdjjbijdjcbdjcbbbbaabib</td>\n",
       "      <td>1/1/2012  11:19:56AM</td>\n",
       "      <td>Valid Access</td>\n",
       "    </tr>\n",
       "  </tbody>\n",
       "</table>\n",
       "</div>"
      ],
      "text/plain": [
       "   Unnamed: 0                              names                 times  \\\n",
       "0           0      bdjdaabeacjjbibbafjcjdjfaibib  1/1/2012   8:31:46AM   \n",
       "1           1              abjejijgjejjbiagjebib  1/1/2012  10:27:20AM   \n",
       "2           2              abjejijgjejjbiagjebib  1/1/2012  10:52:26AM   \n",
       "3           3  jeaajfaijijdjjbijdjcbdjcbbbbaabib  1/1/2012  10:52:48AM   \n",
       "4           4  jeaajfaijijdjjbijdjcbdjcbbbbaabib  1/1/2012  11:19:56AM   \n",
       "\n",
       "          valid  \n",
       "0  Valid Access  \n",
       "1  Valid Access  \n",
       "2  Valid Access  \n",
       "3  Valid Access  \n",
       "4  Valid Access  "
      ]
     },
     "execution_count": 3,
     "metadata": {},
     "output_type": "execute_result"
    }
   ],
   "source": [
    "# load in & examine the data!\n",
    "dog_park = pd.read_csv(\"dogparkdata_2012to2018.csv\")\n",
    "dog_park.head()"
   ]
  },
  {
   "cell_type": "markdown",
   "metadata": {},
   "source": [
    "The data shows us more than 11,000 scan entries from 2012 to 2018. Under the names column shows the different key fobs that scan into the dog park at specific dates and times."
   ]
  },
  {
   "cell_type": "code",
   "execution_count": 4,
   "metadata": {},
   "outputs": [],
   "source": [
    "# make the data more readable\n",
    "# make dataframe into an array & split based on year\n",
    "dog_park_array = np.array(dog_park)\n",
    "data_2012 = dog_park_array[0:10891] #data from 2012\n",
    "data_2013 = dog_park_array[10891:20945] #data from 2013\n",
    "data_2014 = dog_park_array[20945: 32605] #data from 2014\n",
    "data_2015 = dog_park_array[32605: 49340] #data from 2015\n",
    "data_2016 = dog_park_array[49340:70150] #data from 2016\n",
    "data_2017 = dog_park_array[70150:87560] #data from 2017\n",
    "data_2018 = dog_park_array[87560:110066] #data from 2018"
   ]
  },
  {
   "cell_type": "code",
   "execution_count": 5,
   "metadata": {},
   "outputs": [],
   "source": [
    "# deal with the yucky date/time string\n",
    "# this function will create an array with the correct times in military time in the format [hour, minute, second]\n",
    "def correct_time(array):\n",
    "    '''\n",
    "    - This is a function that makes a string of time more readable\n",
    "    - inputs a string in the format 'month/day/time hour:minute:second AM or PM' \n",
    "    - outputs a time array the length of the initial array in the format [hour,minute,second] in military time\n",
    "    \n",
    "    '''\n",
    "    correct_times = []\n",
    "    for i in range(0,len(array)):\n",
    "        date_time = array[i][2] \n",
    "        time = date_time[-10:-2]\n",
    "        am_pm = date_time[-2]\n",
    "        minute = int(time[3:5])\n",
    "        second = int(time[6:8])\n",
    "        hour = int(time[0:2]) \n",
    "        if am_pm == 'A' and hour != 12:\n",
    "            correct_times.append([hour, minute,second])\n",
    "        elif am_pm == 'P'and hour != 12:\n",
    "            hour += 12\n",
    "            correct_times.append([hour, minute, second])\n",
    "        elif am_pm == 'A' and hour == 12:\n",
    "            hour = 0\n",
    "            correct_times.append([hour, minute, second])\n",
    "        elif am_pm == 'P' and hour == 12:\n",
    "            hour = 12\n",
    "            correct_times.append([hour,minute,second])\n",
    "    return(correct_times)"
   ]
  },
  {
   "cell_type": "code",
   "execution_count": 6,
   "metadata": {},
   "outputs": [],
   "source": [
    "# dealing with the yucky date/time string continued\n",
    "# this function will create an array with the correct date in the format [month, day, year]\n",
    "def correct_date(array):\n",
    "    '''\n",
    "    - This is a function that makes a string of times and dates more readable\n",
    "    - inputs a string in the format 'month/day/time hour:minute:second AM or PM' \n",
    "    - outputs a date array the length of the initial array in the format [month,day,year]\n",
    "    '''\n",
    "    correct_dates = []\n",
    "    for i in range(0, len(array)):\n",
    "        date_time = array[i][2]\n",
    "        date = date_time[0:10]\n",
    "        find_month = date.partition('/')\n",
    "        month = int(find_month[0])\n",
    "        find_day = find_month[2].partition('/')\n",
    "        day = int(find_day[0])\n",
    "        year = int(find_day[2])\n",
    "        correct_dates.append([month,day,year])\n",
    "    return(correct_dates)"
   ]
  },
  {
   "cell_type": "code",
   "execution_count": 7,
   "metadata": {},
   "outputs": [],
   "source": [
    "# create an array of just user ids\n",
    "# We are doing this so we do not have to deal with the big original dataset\n",
    "def correct_userid(array):\n",
    "    '''\n",
    "    - This is a function that takes in an array with multiple variables like the original dataset\n",
    "    - This function will output an array of just the user ids\n",
    "    '''\n",
    "    ids = []\n",
    "    for i in range (0,len(array)):\n",
    "        name = array[i][1]\n",
    "        ids.append(name)\n",
    "    return ids"
   ]
  },
  {
   "cell_type": "code",
   "execution_count": 8,
   "metadata": {},
   "outputs": [],
   "source": [
    "# Use the functions we just made to make easily readable arrays\n",
    "times_2012 = correct_time(data_2012)\n",
    "dates_2012 = correct_date(data_2012)\n",
    "users_2012 = correct_userid(data_2012)\n",
    "times_2013 = correct_time(data_2013)\n",
    "dates_2013 = correct_date(data_2013)\n",
    "users_2013 = correct_userid(data_2013)\n",
    "times_2014 = correct_time(data_2014)\n",
    "dates_2014 = correct_date(data_2014)\n",
    "users_2014 = correct_userid(data_2014)\n",
    "times_2015 = correct_time(data_2015)\n",
    "dates_2015 = correct_date(data_2015)\n",
    "users_2015 = correct_userid(data_2015)\n",
    "times_2016 = correct_time(data_2016)\n",
    "dates_2016 = correct_date(data_2016)\n",
    "users_2016 = correct_userid(data_2016)\n",
    "times_2017 = correct_time(data_2017)\n",
    "dates_2017 = correct_date(data_2017)\n",
    "users_2017 = correct_userid(data_2017)\n",
    "times_2018 = correct_time(data_2018)\n",
    "dates_2018 = correct_date(data_2018)\n",
    "users_2018 = correct_userid(data_2018)"
   ]
  },
  {
   "cell_type": "code",
   "execution_count": 9,
   "metadata": {},
   "outputs": [
    {
     "data": {
      "text/plain": [
       "(1297, 1323)"
      ]
     },
     "execution_count": 9,
     "metadata": {},
     "output_type": "execute_result"
    }
   ],
   "source": [
    "#Now were going to define a function so these arrays are more useful\n",
    "def find_indices(month,day,year,date_array):\n",
    "    '''\n",
    "    - This is a function that takes in a date and finds the indices for that specific date\n",
    "    - Inputs:\n",
    "        - month, day, year : Integers for the date wanted\n",
    "        - date_array: This can be any array you want to find indices over\n",
    "    - Returns two values, the first value is the first time the date appears in the array, \n",
    "      the second value is the last time the date appears in the array\n",
    "    '''\n",
    "    begin = date_array.index([month,day,year])\n",
    "    end = date_array.index([month,day+1,year]) \n",
    "    return(begin,end)\n",
    "\n",
    "# example \n",
    "find_indices(2,14,2013, dates_2013)"
   ]
  },
  {
   "cell_type": "code",
   "execution_count": 10,
   "metadata": {},
   "outputs": [],
   "source": [
    "# Another helpful function\n",
    "def unique(array):\n",
    "    '''\n",
    "    This is a function that takes in an array and outputs an array of the unique elements\n",
    "    '''\n",
    "    unique_array = []\n",
    "    for point in array:\n",
    "        if point not in unique_array:\n",
    "            unique_array.append(point)\n",
    "    return unique_array\n",
    "\n",
    "#Example            \n",
    "unique_dates = unique(dates_2012)"
   ]
  },
  {
   "cell_type": "markdown",
   "metadata": {},
   "source": [
    "### How has the popularity of the dog park changed by year?\n"
   ]
  },
  {
   "cell_type": "code",
   "execution_count": 11,
   "metadata": {},
   "outputs": [
    {
     "data": {
      "text/plain": [
       "Text(0,0.5,'Total Scans')"
      ]
     },
     "execution_count": 11,
     "metadata": {},
     "output_type": "execute_result"
    },
    {
     "data": {
      "image/png": "[encoded data removed]",
      "text/plain": [
       "<Figure size 432x288 with 1 Axes>"
      ]
     },
     "metadata": {},
     "output_type": "display_data"
    }
   ],
   "source": [
    "#Modeling scans per year by taking the length of each date array\n",
    "scans_per_year = [len(dates_2012),len(dates_2013),len(dates_2014),len(dates_2015), len(dates_2016),len(dates_2017),len(dates_2018)]\n",
    "year = [2012,2013,2014,2015,2016,2017,2018]\n",
    "plt.scatter(year,scans_per_year,color = \"navy\")\n",
    "plt.grid()\n",
    "plt.title(\"Overall Scans Per Year\")\n",
    "plt.xlabel(\"Year\")\n",
    "plt.ylabel(\"Total Scans\")"
   ]
  },
  {
   "cell_type": "markdown",
   "metadata": {},
   "source": [
    "The popularity of the dog park has changed in an increasing linear pattern throughout the years. \n",
    "\n",
    "Keeping in mind the fact that a significant amount of data is missing from both 2013 and 2017 which explains the variation of the pattern. Also, since 2018 is not over yet, the data collected during this period only extends till the end of October."
   ]
  },
  {
   "cell_type": "markdown",
   "metadata": {},
   "source": [
    "### How does climate affect popularity?"
   ]
  },
  {
   "cell_type": "code",
   "execution_count": 12,
   "metadata": {},
   "outputs": [
    {
     "data": {
      "text/plain": [
       "Text(0,0.5,'Average Scans')"
      ]
     },
     "execution_count": 12,
     "metadata": {},
     "output_type": "execute_result"
    },
    {
     "data": {
      "image/png": "[encoded data removed]",
      "text/plain": [
       "<Figure size 432x288 with 1 Axes>"
      ]
     },
     "metadata": {},
     "output_type": "display_data"
    }
   ],
   "source": [
    "# This is a long cell, Sorry in advance\n",
    "# We split this up using the find_indices function\n",
    "\n",
    "#2012\n",
    "jan2012 = dates_2012[0:662]\n",
    "feb2012 = dates_2012[663:1389]\n",
    "mar2012 = dates_2012[1390:2303]\n",
    "apr2012 = dates_2012[2304:3207]\n",
    "may2012 = dates_2012[3208:4190]\n",
    "jun2012 = dates_2012[4191:5048]\n",
    "jul2012 = dates_2012[5049:5998]\n",
    "aug2012 = dates_2012[5999:6871]\n",
    "sep2012 = dates_2012[6872:8012]\n",
    "oct2012 = dates_2012[8013:9021]\n",
    "nov2012 = dates_2012[9022:10034]\n",
    "dec2012 = dates_2012[10035:]\n",
    "#2013\n",
    "jan2013 = dates_2013[0:848]\n",
    "feb2013 = dates_2013[849:1733]\n",
    "mar2013 = dates_2013[1734:2667]\n",
    "apr2013 = dates_2013[2668:3426]\n",
    "may2013 = dates_2013[3427:4578]\n",
    "jun2013 = dates_2013[4579:5792]\n",
    "jul2013 = dates_2013[5793:6468]\n",
    "aug2013 = dates_2013[6469:8183]\n",
    "oct2013 = dates_2013[8184:8292]\n",
    "nov2013 = dates_2013[8293:9341]\n",
    "dec2013 = dates_2013[9342:]\n",
    "#2014\n",
    "jan2014 = dates_2014[0:774]\n",
    "feb2014 = dates_2014[775:1656]\n",
    "mar2014 = dates_2014[1657:2684]\n",
    "apr2014 = dates_2014[2685:4034]\n",
    "may2014 = dates_2014[4035:5445]\n",
    "jun2014 = dates_2014[5446:6788]\n",
    "jul2014 = dates_2014[6789:8456]\n",
    "aug2014 = dates_2014[8457:9721]\n",
    "sep2014 = dates_2014[9722:11226]\n",
    "oct2014 = dates_2014[11227:11660]\n",
    "#2015\n",
    "jan2015 = dates_2015[0:1028]\n",
    "feb2015 = dates_2015[1029:1561]\n",
    "mar2015 = dates_2015[1562:2548]\n",
    "apr2015 = dates_2015[2549:3946]\n",
    "may2015 = dates_2015[3947:5480]\n",
    "jun2015 = dates_2015[5481:7084]\n",
    "jul2015 = dates_2015[7085:8545]\n",
    "aug2015 = dates_2015[8546:10349]\n",
    "sep2015 = dates_2015[10350:12125] \n",
    "oct2015 = dates_2015[12126:13767]\n",
    "nov2015 = dates_2015[13768:15448]\n",
    "dec2015 = dates_2015[15449:]\n",
    "#2016\n",
    "jan2016 = dates_2016[0:1181]\n",
    "feb2016 = dates_2016[1182:2261]\n",
    "mar2016 = dates_2016[2262:3556]\n",
    "apr2016 = dates_2016[3557:5409]\n",
    "may2016 = dates_2016[5410:7417]\n",
    "jun2016 = dates_2016[7418:9908]\n",
    "jul2016 = dates_2016[9909:12303]\n",
    "aug2016 = dates_2016[12304:14375]\n",
    "sep2016 = dates_2016[14376:16134]\n",
    "oct2016 = dates_2016[16135:17882]\n",
    "nov2016 = dates_2016[17883:19686]\n",
    "dec2016 = dates_2016[19687:]\n",
    "#2017\n",
    "jan2017 = dates_2017[0:1193]\n",
    "feb2017 = dates_2017[1194:2797]\n",
    "mar2017 = dates_2017[2798:4390]\n",
    "apr2017 = dates_2017[4391:6400]\n",
    "may2017 = dates_2017[6401:8534]\n",
    "jun2017 = dates_2017[8535:9952]\n",
    "jul2017 = dates_2017[9953:10351]\n",
    "aug2017 = dates_2017[10352:12634]\n",
    "sep2017 = dates_2017[12635:14416]\n",
    "oct2017 = dates_2017[14417:14706]\n",
    "nov2017 = dates_2017[14707:15941] \n",
    "dec2017 = dates_2017[15942:]\n",
    "\n",
    "#Now were going to find the average number of scans per month\n",
    "jan_avg = (len(jan2012) + len(jan2013) + len(jan2014) + len(jan2015)+ len(jan2016) + len(jan2017))/6\n",
    "feb_avg = (len(feb2012) + len(feb2013) + len(feb2014) + len(feb2015)+ len(feb2016) + len(feb2017))/6\n",
    "mar_avg = (len(mar2012) + len(mar2013) + len(mar2014) + len(mar2015)+ len(mar2016) + len(mar2017))/6\n",
    "apr_avg = (len(apr2012) + len(apr2013) + len(apr2014) + len(apr2015)+ len(apr2016) + len(apr2017))/6\n",
    "may_avg = (len(may2012) + len(may2013) + len(may2014) + len(may2015)+ len(may2016) + len(may2017))/6\n",
    "jun_avg = (len(jun2012) + len(jun2013) + len(jun2014) + len(jun2015)+ len(jun2016) + len(jun2017))/6\n",
    "jul_avg = (len(jul2012) + len(jul2013) + len(jul2014) + len(jul2015)+ len(jul2016) + len(jul2017))/5\n",
    "aug_avg = (len(aug2012) + len(aug2013) + len(aug2014) + len(aug2015)+ len(aug2016) + len(aug2017))/6\n",
    "sep_avg = (len(sep2012) + len(sep2014) + len(sep2015)+ len(sep2016) + len(sep2017))/5\n",
    "oct_avg = (len(oct2012) + len(oct2014) + len(oct2015)+ len(oct2016))/4\n",
    "nov_avg = (len(nov2012) + len(nov2013) + len(nov2015)+ len(nov2016) + len(nov2017))/5\n",
    "dec_avg = (len(dec2012) + len(dec2013) + len(dec2015)+ len(dec2016) + len(dec2017))/5\n",
    "\n",
    "#plotting\n",
    "ys = [jan_avg,feb_avg,mar_avg,apr_avg,may_avg,jun_avg,jul_avg,aug_avg,sep_avg,oct_avg,nov_avg,dec_avg]\n",
    "xs = [\"Jan\",\"Feb\",\"Mar\",\"Apr\",'May',\"Jun\",'Jul','Aug','Sep','Oct','Nov','Dec']\n",
    "plt.plot(xs,ys,marker = 'o',color = 'navy',label = '2017')\n",
    "plt.grid()\n",
    "plt.title(\"Average Scans Per Month 2012-2017\")\n",
    "plt.xlabel(\"Month\")\n",
    "plt.ylabel(\"Average Scans\")"
   ]
  },
  {
   "cell_type": "markdown",
   "metadata": {},
   "source": [
    "In general, the warmer months have more visitation than the colder winter months. Note that October is missing data in multiple years, so that would explain the dip in October. "
   ]
  },
  {
   "cell_type": "markdown",
   "metadata": {},
   "source": [
    "### Which day of the week is the most popular?"
   ]
  },
  {
   "cell_type": "code",
   "execution_count": 13,
   "metadata": {},
   "outputs": [],
   "source": [
    "#This is a longer cell, Sorry again\n",
    "\n",
    "#These were found again using find_indices\n",
    "april2012 = dates_2012[2304:3207] #Calendar says April starts on a Sunday \n",
    "april2013 = dates_2013[2668:3426] #Starts on a monday\n",
    "april2014 = dates_2014[2685:4034] #Starts on a tuesday\n",
    "april2015 = dates_2015[2549:3946] #Starts on a wednesday\n",
    "april2016 = dates_2016[3557:5409] #Starts on a friday\n",
    "april2017 = dates_2017[4391:6400] #starts on a saturday\n",
    "april2018 = dates_2018[5215:7870] #Starts on a sunday\n",
    "\n",
    "#We are making a few statements that will add to these starting values\n",
    "sundays = 0\n",
    "mondays = 0 \n",
    "tuesdays = 0\n",
    "wednesdays = 0\n",
    "thursdays = 0\n",
    "fridays = 0\n",
    "saturdays = 0\n",
    "sundays = 0\n",
    "\n",
    "#2012 data, this will count the number of Mondays, Tuesdays, etc. in April 2012\n",
    "for i in range (len(april2012)):\n",
    "    if april2012[i][1] == 1 or april2012[i][1] == 8 or april2012[i][1] == 15 or april2012[i][1] == 22 or april2012[i][1] == 29:\n",
    "        sundays += 1\n",
    "    elif april2012[i][1] == 2 or april2012[i][1] == 9 or april2012[i][1] == 16 or april2012[i][1] == 23 or april2012[i][1] == 30:\n",
    "        mondays += 1\n",
    "    elif april2012[i][1] == 3 or april2012[i][1] == 10 or april2012[i][1] == 17 or april2012[i][1] ==24:\n",
    "        tuesdays += 1\n",
    "    elif april2012[i][1] == 4 or april2012[i][1] == 11 or april2012[i][1] == 18 or april2012[i][1] == 25:\n",
    "        wednesdays += 1\n",
    "    elif april2012[i][1] ==5 or april2012[i][1] == 12 or april2012[i][1] == 19 or april2012[i][1] == 26:\n",
    "        thursdays += 1\n",
    "    elif april2012[i][1] == 6 or april2012[i][1] == 13 or april2012[i][1] == 20 or april2012[i][1] == 27:\n",
    "        fridays += 1\n",
    "    elif april2012[i][1] == 7 or april2012[i][1] == 14 or april2012[i][1] == 21 or april2012[i][1] == 28:\n",
    "        saturdays += 1\n",
    "#2013 data, this will count the number of Mondays, Tuesdays, etc. in April 2013\n",
    "for i in range (len(april2013)):\n",
    "    if april2013[i][1] == 1 or april2013[i][1] == 8 or april2013[i][1] == 15 or april2013[i][1] == 22 or april2013[i][1] == 29:\n",
    "        mondays += 1\n",
    "    elif april2013[i][1] == 2 or april2013[i][1] == 9 or april2013[i][1] == 16 or april2013[i][1] == 23 or april2013[i][1] == 30:\n",
    "        tuesdays += 1\n",
    "    elif april2013[i][1] == 3 or april2013[i][1] == 10 or april2013[i][1] == 17 or april2013[i][1] ==24:\n",
    "        wednesdays += 1\n",
    "    elif april2013[i][1] == 4 or april2013[i][1] == 11 or april2013[i][1] == 18 or april2013[i][1] == 25:\n",
    "        thursdays += 1\n",
    "    elif april2013[i][1] ==5 or april2013[i][1] == 12 or april2013[i][1] == 19 or april2013[i][1] == 26:\n",
    "        fridays += 1\n",
    "    elif april2013[i][1] == 6 or april2013[i][1] == 13 or april2013[i][1] == 20 or april2013[i][1] == 27:\n",
    "        saturdays += 1\n",
    "    elif april2013[i][1] == 7 or april2013[i][1] == 14 or april2013[i][1] == 21 or april2013[i][1] == 28:\n",
    "        sundays += 1     \n",
    " #2014 data, this will count the number of Mondays, Tuesdays, etc. in April 2014      \n",
    "for i in range (len(april2014)):\n",
    "    if april2014[i][1] == 1 or april2014[i][1] == 8 or april2014[i][1] == 15 or april2014[i][1] == 22 or april2014[i][1] == 29:\n",
    "        tuesdays += 1\n",
    "    elif april2014[i][1] == 2 or april2014[i][1] == 9 or april2014[i][1] == 16 or april2014[i][1] == 23 or april2014[i][1] == 30:\n",
    "        wednesdays += 1\n",
    "    elif april2014[i][1] == 3 or april2014[i][1] == 10 or april2014[i][1] == 17 or april2014[i][1] ==24:\n",
    "        thursdays += 1\n",
    "    elif april2014[i][1] == 4 or april2014[i][1] == 11 or april2014[i][1] == 18 or april2014[i][1] == 25:\n",
    "        fridays += 1\n",
    "    elif april2014[i][1] ==5 or april2014[i][1] == 12 or april2014[i][1] == 19 or april2014[i][1] == 26:\n",
    "        saturdays += 1\n",
    "    elif april2014[i][1] == 6 or april2014[i][1] == 13 or april2014[i][1] == 20 or april2014[i][1] == 27:\n",
    "        sundays += 1\n",
    "    elif april2014[i][1] == 7 or april2014[i][1] == 14 or april2014[i][1] == 21 or april2014[i][1] == 28:\n",
    "        mondays += 1 \n",
    "#2015 data, this will count the number of Mondays, Tuesdays, etc. in April 2015\n",
    "for i in range (len(april2015)):\n",
    "    if april2015[i][1] == 1 or april2015[i][1] == 8 or april2015[i][1] == 15 or april2015[i][1] == 22 or april2015[i][1] == 29:\n",
    "        wednesdays += 1\n",
    "    elif april2015[i][1] == 2 or april2015[i][1] == 9 or april2015[i][1] == 16 or april2015[i][1] == 23 or april2015[i][1] == 30:\n",
    "        thursdays += 1\n",
    "    elif april2015[i][1] == 3 or april2015[i][1] == 10 or april2015[i][1] == 17 or april2015[i][1] ==24:\n",
    "        fridays += 1\n",
    "    elif april2015[i][1] == 4 or april2015[i][1] == 11 or april2015[i][1] == 18 or april2015[i][1] == 25:\n",
    "        saturdays += 1\n",
    "    elif april2015[i][1] ==5 or april2015[i][1] == 12 or april2015[i][1] == 19 or april2015[i][1] == 26:\n",
    "        sundays += 1\n",
    "    elif april2015[i][1] == 6 or april2015[i][1] == 13 or april2015[i][1] == 20 or april2015[i][1] == 27:\n",
    "        mondays += 1\n",
    "    elif april2015[i][1] == 7 or april2015[i][1] == 14 or april2015[i][1] == 21 or april2015[i][1] == 28:\n",
    "        tuesdays += 1 \n",
    "#2016 data, this will count the number of Mondays, Tuesdays, etc. in April 2016\n",
    "for i in range (len(april2016)):\n",
    "    if april2016[i][1] == 1 or april2016[i][1] == 8 or april2016[i][1] == 15 or april2016[i][1] == 22 or april2016[i][1] == 29:\n",
    "         fridays += 1\n",
    "    elif april2016[i][1] == 2 or april2016[i][1] == 9 or april2016[i][1] == 16 or april2016[i][1] == 23 or april2016[i][1] == 30:\n",
    "        saturdays += 1\n",
    "    elif april2016[i][1] == 3 or april2016[i][1] == 10 or april2016[i][1] == 17 or april2016[i][1] ==24:\n",
    "        sundays += 1\n",
    "    elif april2016[i][1] == 4 or april2016[i][1] == 11 or april2016[i][1] == 18 or april2016[i][1] == 25:\n",
    "        mondays += 1\n",
    "    elif april2016[i][1] ==5 or april2016[i][1] == 12 or april2016[i][1] == 19 or april2016[i][1] == 26:\n",
    "        tuesdays += 1\n",
    "    elif april2016[i][1] == 6 or april2016[i][1] == 13 or april2016[i][1] == 20 or april2016[i][1] == 27:\n",
    "        wednesdays += 1\n",
    "    elif april2016[i][1] == 7 or april2016[i][1] == 14 or april2016[i][1] == 21 or april2016[i][1] == 28:\n",
    "        thursdays += 1 \n",
    "#2017 data, this will count the number of Mondays, Tuesdays, etc. in April 2017\n",
    "for i in range (len(april2017)):\n",
    "    if april2017[i][1] == 1 or april2017[i][1] == 8 or april2017[i][1] == 15 or april2017[i][1] == 22 or april2017[i][1] == 29:\n",
    "         saturdays += 1\n",
    "    elif april2017[i][1] == 2 or april2017[i][1] == 9 or april2017[i][1] == 16 or april2017[i][1] == 23 or april2017[i][1] == 30:\n",
    "        sundays += 1\n",
    "    elif april2017[i][1] == 3 or april2017[i][1] == 10 or april2017[i][1] == 17 or april2017[i][1] ==24:\n",
    "        mondays += 1\n",
    "    elif april2017[i][1] == 4 or april2017[i][1] == 11 or april2017[i][1] == 18 or april2017[i][1] == 25:\n",
    "        tuesdays += 1\n",
    "    elif april2017[i][1] ==5 or april2017[i][1] == 12 or april2017[i][1] == 19 or april2017[i][1] == 26:\n",
    "        wednesdays += 1\n",
    "    elif april2017[i][1] == 6 or april2017[i][1] == 13 or april2017[i][1] == 20 or april2017[i][1] == 27:\n",
    "        thursdays += 1\n",
    "    elif april2017[i][1] == 7 or april2017[i][1] == 14 or april2017[i][1] == 21 or april2017[i][1] == 28:\n",
    "        fridays += 1   \n",
    "#2018 data, this will count the number of Mondays, Tuesdays, etc. in April 2018        \n",
    "for i in range (len(april2018)):\n",
    "    if april2018[i][1] == 1 or april2018[i][1] == 8 or april2018[i][1] == 15 or april2018[i][1] == 22 or april2018[i][1] == 29:\n",
    "         sundays += 1\n",
    "    elif april2018[i][1] == 2 or april2018[i][1] == 9 or april2018[i][1] == 16 or april2018[i][1] == 23 or april2018[i][1] == 30:\n",
    "        mondays += 1\n",
    "    elif april2018[i][1] == 3 or april2018[i][1] == 10 or april2018[i][1] == 17 or april2018[i][1] ==24:\n",
    "        tuesdays += 1\n",
    "    elif april2018[i][1] == 4 or april2018[i][1] == 11 or april2018[i][1] == 18 or april2018[i][1] == 25:\n",
    "        wednesdays += 1\n",
    "    elif april2018[i][1] ==5 or april2018[i][1] == 12 or april2018[i][1] == 19 or april2018[i][1] == 26:\n",
    "        thursdays += 1\n",
    "    elif april2018[i][1] == 6 or april2018[i][1] == 13 or april2018[i][1] == 20 or april2018[i][1] == 27:\n",
    "        fridays += 1\n",
    "    elif april2018[i][1] == 7 or april2018[i][1] == 14 or april2018[i][1] == 21 or april2018[i][1] == 28:\n",
    "        saturdays += 1 \n",
    "\n",
    "# We will be taking the average here\n",
    "avg_mondays = mondays/30\n",
    "avg_tuesdays= tuesdays/30\n",
    "avg_wednesdays = wednesdays/30\n",
    "avg_thursdays = thursdays/30\n",
    "avg_fridays= fridays/30\n",
    "avg_saturdays= saturdays/30\n",
    "avg_sundays = sundays/30"
   ]
  },
  {
   "cell_type": "code",
   "execution_count": 14,
   "metadata": {},
   "outputs": [
    {
     "data": {
      "text/plain": [
       "Text(0,0.5,'Number of Scans')"
      ]
     },
     "execution_count": 14,
     "metadata": {},
     "output_type": "execute_result"
    },
    {
     "data": {
      "image/png": "[encoded data removed]",
      "text/plain": [
       "<Figure size 432x288 with 1 Axes>"
      ]
     },
     "metadata": {},
     "output_type": "display_data"
    }
   ],
   "source": [
    "#plot the data we found in the above cell!\n",
    "days = [avg_mondays, avg_tuesdays, avg_wednesdays,avg_thursdays, avg_fridays, avg_saturdays, avg_sundays]\n",
    "y = [\"Mon\", \"Tues\", \"Wed\", \"Thurs\",'Fri', 'Sat', \"Sun\" ]\n",
    "plt.plot(y,days, color = 'navy', marker = 'o')\n",
    "plt.grid()\n",
    "plt.title('Average Scans Per Day of Week in April')\n",
    "plt.xlabel(\"Day of the Week\")\n",
    "plt.ylabel(\"Number of Scans\")"
   ]
  },
  {
   "cell_type": "markdown",
   "metadata": {},
   "source": [
    "This lines up with our expectations, Saturday and Sunday are the most popular days of the week, on average."
   ]
  },
  {
   "cell_type": "markdown",
   "metadata": {},
   "source": [
    "### How does Weather affect the weekly popularity?"
   ]
  },
  {
   "cell_type": "code",
   "execution_count": 15,
   "metadata": {},
   "outputs": [
    {
     "data": {
      "text/plain": [
       "Text(0,0.5,'Number of Scans')"
      ]
     },
     "execution_count": 15,
     "metadata": {},
     "output_type": "execute_result"
    },
    {
     "data": {
      "image/png": "[encoded data removed]",
      "text/plain": [
       "<Figure size 432x288 with 1 Axes>"
      ]
     },
     "metadata": {},
     "output_type": "display_data"
    }
   ],
   "source": [
    "# We will model one specific week and compare it to the average so we can see the effect of the weather\n",
    "#april 24-30 2017\n",
    "m24 = len(dates_2017[5930:5998])\n",
    "t25 = len(dates_2017[5999:6079])\n",
    "w26 = len(dates_2017[6080:6156])\n",
    "t27 = len(dates_2017[6157:6210])\n",
    "f28 = len(dates_2017[6211:6280])\n",
    "s29 = len(dates_2017[6281:6368])\n",
    "s30 = len(dates_2017[6369:6400])\n",
    "points = [m24,t25,w26,t27,f28,s29,s30]\n",
    "days = [\"Mon\", \"Tues\", \"Wed\", \"Thurs\",'Fri', 'Sat', \"Sun\" ]\n",
    "plt.plot(days,points, color = 'navy', marker = 'o')\n",
    "plt.grid()\n",
    "plt.title('Scans Per Day April 24-30 2017')\n",
    "plt.xlabel(\"Day of the Week\")\n",
    "plt.ylabel(\"Number of Scans\")"
   ]
  },
  {
   "cell_type": "markdown",
   "metadata": {},
   "source": [
    "In our presentation, we have the weather data for this week. In summary,Sunday was very rainy and cold. This is reflected in the weekly popularity, since Sunday is averagely up with Saturday, and this week it had very low visitation."
   ]
  },
  {
   "cell_type": "markdown",
   "metadata": {},
   "source": [
    "### What time of the day is the most popular?"
   ]
  },
  {
   "cell_type": "code",
   "execution_count": 16,
   "metadata": {},
   "outputs": [],
   "source": [
    "# This is a function that will help us model the popularity over the course of a day\n",
    "\n",
    "def plot_day_popularity(userid_array, times_array):\n",
    "    '''\n",
    "    -This is a function that will model the popularity of the dog park over the course of a day\n",
    "    - Inputs:\n",
    "        - userid_array: an array of each user_id that scanned in a given day\n",
    "        - times_array: an array with the same length of userid_array that coorespond to the times of each scan\n",
    "    - Outputs:\n",
    "        - A histogram of the visitation by hour\n",
    "        - An array with the times of visitation, used to make the histogram\n",
    "    '''\n",
    "    #this function starts out by removing the points where a user scanned in more than twice\n",
    "    corrected_times = []\n",
    "    corrected_users = []\n",
    "    for i in range(len(userid_array)):\n",
    "        if list(userid_array).count(userid_array[i]) == 2:\n",
    "            corrected_times.append(times_array[i])\n",
    "            corrected_users.append(userid_array[i])\n",
    "    \n",
    "    #time arrays\n",
    "    #reference times is the array of all possible times\n",
    "    #real times will be the actual times people were there\n",
    "    reference_times = np.linspace(0,24,49) \n",
    "    real_times = []\n",
    "    \n",
    "    # this intermediate array will help us keep track of who we have looped through already\n",
    "    intermediate_user_array = []\n",
    "    \n",
    "    #looping through every user\n",
    "    for j in range (0,len(corrected_users)):\n",
    "        intermediate_user_array.append(corrected_users[j])\n",
    "        \n",
    "        #first, we will find the time the user entered the park\n",
    "        if list(intermediate_user_array).count(corrected_users[j])== 1:\n",
    "            time_in = corrected_times[j]\n",
    "            \n",
    "        #then we will find the time the user left the park\n",
    "        elif list(intermediate_user_array).count(corrected_users[j])== 2 :\n",
    "            time_out = corrected_times[j]\n",
    "            \n",
    "            #then we will be rounding the values of time_in and time_out to make the histogram work more nicely\n",
    "            if time_in[1] <= 15 and time_out[1] <= 15:\n",
    "                rounded_time_in = float(time_in[0])\n",
    "                rounded_time_out = float(time_out[0])\n",
    "                # we will then loop through the possible times and find out when the user was there\n",
    "                for k in range(len(reference_times)):\n",
    "                    if rounded_time_in <= reference_times[k] and rounded_time_out >= reference_times[k]:\n",
    "                        real_times.append(reference_times[k])\n",
    "                        \n",
    "            elif time_in[1] > 15 and time_in[1]<= 45 and time_out[1] <= 15:\n",
    "                rounded_time_in = (2*time_in[0]+1)/2\n",
    "                rounded_time_out = float(time_out[0])\n",
    "                for l in range(len(reference_times)):\n",
    "                    if rounded_time_in <= reference_times[l] and rounded_time_out >= reference_times[l]:\n",
    "                        real_times.append(reference_times[l])\n",
    "                        \n",
    "            elif time_in[1] > 45 and time_out[1] <= 15:\n",
    "                rounded_time_in = float(time_in[0] + 1)\n",
    "                rounded_time_out = float(time_out[0]) \n",
    "                for m in range(len(reference_times)):\n",
    "                    if rounded_time_in <= reference_times[m] and rounded_time_out >= reference_times[m]:\n",
    "                        real_times.append(reference_times[m])\n",
    "                        \n",
    "            if time_in[1] <= 15 and time_out[1] >15 and time_out[1] <= 45:\n",
    "                rounded_time_in = float(time_in[0])\n",
    "                rounded_time_out = (2*time_out[0]+1)/2\n",
    "                for n in range(len(reference_times)):\n",
    "                    if rounded_time_in <= reference_times[n] and rounded_time_out >= reference_times[n]:\n",
    "                        real_times.append(reference_times[n])\n",
    "                        \n",
    "            elif time_in[1] > 15 and time_in[1]<= 45 and time_out[1] >15 and time_out[1] <= 45:\n",
    "                rounded_time_in = (2*time_in[0]+1)/2\n",
    "                rounded_time_out = (2*time_out[0]+1)/2\n",
    "                for o in range(len(reference_times)):\n",
    "                    if rounded_time_in <= reference_times[o] and rounded_time_out >= reference_times[o]:\n",
    "                        real_times.append(reference_times[o])\n",
    "                        \n",
    "            elif time_in[1] > 45 and time_out[1] >15 and time_out[1] <= 45:\n",
    "                rounded_time_in = float(time_in[0] + 1)\n",
    "                rounded_time_out = (2*time_out[0]+1)/2\n",
    "                for p in range(len(reference_times)):\n",
    "                    if rounded_time_in <= reference_times[p] and rounded_time_out >= reference_times[p]:\n",
    "                        real_times.append(reference_times[p])\n",
    "                        \n",
    "            if time_in[1] <= 15 and time_out[1] >45:\n",
    "                rounded_time_in = float(time_in[0])\n",
    "                rounded_time_out = float(time_out[0]+1)\n",
    "                for q in range(len(reference_times)):\n",
    "                    if rounded_time_in <= reference_times[q] and rounded_time_out >= reference_times[q]:\n",
    "                        real_times.append(reference_times[q])\n",
    "                        \n",
    "            elif time_in[1] > 15 and time_in[1]<= 45 and time_out[1] >45:\n",
    "                rounded_time_in = (2*time_in[0]+1)/2\n",
    "                rounded_time_out = float(time_out[0]+1)\n",
    "                for r in range(len(reference_times)):\n",
    "                    if rounded_time_in <= reference_times[r] and rounded_time_out >= reference_times[r]:\n",
    "                        real_times.append(reference_times[r])\n",
    "                        \n",
    "            elif time_in[1] > 45 and time_out[1] >45:\n",
    "                rounded_time_in = float(time_in[0] + 1)\n",
    "                rounded_time_out = float(time_out[0]+1)\n",
    "                for s in range(len(reference_times)):\n",
    "                    if rounded_time_in <= reference_times[s] and rounded_time_out >= reference_times[s]:\n",
    "                        real_times.append(reference_times[s])\n",
    "    \n",
    "    #the last part of this function is plotting using matplotlib!                    \n",
    "    plt.hist(real_times, color = 'navy')\n",
    "    plt.title(\"Popularity Throughout the Day\")\n",
    "    plt.xlabel(\"Hour of the Day\")\n",
    "    plt.ylabel(\"Number of People Present\")\n",
    "    plt.grid()\n",
    "    return(real_times)"
   ]
  },
  {
   "cell_type": "code",
   "execution_count": 17,
   "metadata": {},
   "outputs": [],
   "source": [
    "# We will use the function we just created to model different days\n",
    "\n",
    "# May 31st, 2016\n",
    "may31_times = times_2016[7355:7418]\n",
    "may31_userid = users_2016[7355:7418]\n",
    "\n",
    "#June 1st, 2016\n",
    "june1_times = times_2016[7418:7471]\n",
    "june1_userid = users_2016[7418:7471]\n",
    "\n",
    "#June 2nd, 2016\n",
    "june2_times = times_2016[7471:7574]\n",
    "june2_userid = users_2016[7471:7574]"
   ]
  },
  {
   "cell_type": "code",
   "execution_count": 18,
   "metadata": {},
   "outputs": [
    {
     "data": {
      "image/png": "[encoded data removed]",
      "text/plain": [
       "<Figure size 432x288 with 1 Axes>"
      ]
     },
     "metadata": {},
     "output_type": "display_data"
    }
   ],
   "source": [
    "may31 = plot_day_popularity(may31_userid, may31_times)"
   ]
  },
  {
   "cell_type": "code",
   "execution_count": 19,
   "metadata": {},
   "outputs": [
    {
     "data": {
      "image/png": "[encoded data removed]",
      "text/plain": [
       "<Figure size 432x288 with 1 Axes>"
      ]
     },
     "metadata": {},
     "output_type": "display_data"
    }
   ],
   "source": [
    "june1 = plot_day_popularity(june1_userid,june1_times)"
   ]
  },
  {
   "cell_type": "code",
   "execution_count": 20,
   "metadata": {},
   "outputs": [
    {
     "data": {
      "image/png": "[encoded data removed]",
      "text/plain": [
       "<Figure size 432x288 with 1 Axes>"
      ]
     },
     "metadata": {},
     "output_type": "display_data"
    }
   ],
   "source": [
    "june2 = plot_day_popularity(june2_userid, june2_times)"
   ]
  },
  {
   "cell_type": "markdown",
   "metadata": {},
   "source": [
    "This data appears to be inconclusive. This could suggest that multiple variables are having an effect on the popularity, and it can not be determined by time of day alone."
   ]
  },
  {
   "cell_type": "markdown",
   "metadata": {},
   "source": [
    "## Code to find most popular day of the month:"
   ]
  },
  {
   "cell_type": "code",
   "execution_count": 21,
   "metadata": {},
   "outputs": [],
   "source": [
    "def find_indices(month,day,year,date_array):\n",
    "    begin = date_array.index([month,day,year])\n",
    "    end = date_array.index([month,day+1,year]) \n",
    "    return (begin, end) "
   ]
  },
  {
   "cell_type": "markdown",
   "metadata": {},
   "source": [
    "find_indices function from above is used to find the indices for every day in the dates array of the month that we are investigating"
   ]
  },
  {
   "cell_type": "code",
   "execution_count": 22,
   "metadata": {},
   "outputs": [],
   "source": [
    "def get_indices_for_date(year_array):\n",
    "    \"\"\"\n",
    "    Gets the indices for each day for the entire month \n",
    "    \"\"\"\n",
    "    i = 1\n",
    "    month_array_indices = []\n",
    "    while i <= 30:\n",
    "        begin1, end1 = find_indices(7,i,2016, year_array)\n",
    "        beginend = [begin1, end1]\n",
    "        month_array_indices.append(beginend)\n",
    "        i+=1\n",
    "        \n",
    "    return month_array_indices"
   ]
  },
  {
   "cell_type": "code",
   "execution_count": 23,
   "metadata": {},
   "outputs": [],
   "source": [
    "def get_user_ids(year_array, month_array_indices):\n",
    "    \"\"\"\n",
    "    Get user IDs for each of the days of the entire month using the indices that\n",
    "    were given\n",
    "    \"\"\"\n",
    "    userid_month = []\n",
    "    total_month = []\n",
    "    for t in range(30):\n",
    "        for i in range(0,len(year_array)):\n",
    "            userid_month.append(year_array[i][1])\n",
    "        practice = userid_month[month_array_indices[t-1][0]:month_array_indices[t-1][1]]\n",
    "        total_month.append(practice)\n",
    "        t+=1\n",
    "        \n",
    "    return total_month"
   ]
  },
  {
   "cell_type": "code",
   "execution_count": 24,
   "metadata": {},
   "outputs": [],
   "source": [
    "def get_daily_freq(length_of_month, total_month):\n",
    "    '''\n",
    "    takes in the length of month and the total_month from get_user_ids function\n",
    "    to get the unique users each day for the entire month\n",
    "    '''\n",
    "    dailyfreq_month = []\n",
    "\n",
    "    for i in range(31):\n",
    "        dailyuserid_month = total_month[i-1]\n",
    "        dailyuniqueusers = np.unique(dailyuserid_month)\n",
    "        dailyfreq_month.append(len(dailyuniqueusers))\n",
    "        \n",
    "    return dailyfreq_month"
   ]
  },
  {
   "cell_type": "code",
   "execution_count": 25,
   "metadata": {},
   "outputs": [],
   "source": [
    "def create_date_list():\n",
    "    '''\n",
    "    takes in the number of days and creates a list of dates up to the number of days \n",
    "    in the month\n",
    "    '''\n",
    "    date = []\n",
    "\n",
    "    for i in range(31):\n",
    "        i+=1\n",
    "        date.append(i)\n",
    "    \n",
    "    return date"
   ]
  },
  {
   "cell_type": "code",
   "execution_count": 26,
   "metadata": {},
   "outputs": [],
   "source": [
    "def create_plot(date, dailyfreq_month):\n",
    "    '''\n",
    "    creates a plot using date list and daily_freq_month \n",
    "    '''\n",
    "    #daily_freq_plot = plt.plot(date, dailyfreq_july2016, color = 'blue')\n",
    "    plt.plot(date, dailyfreq_month, color = 'blue')\n",
    "    plt.grid()\n",
    "    plt.title(\"Unique Scans by Day (July 2016)\")\n",
    "    plt.xlabel(\"Date\")\n",
    "    plt.xticks(np.arange(min(date), max(date)+1, 1.0))\n",
    "    plt.ylabel(\"Total Scans\")\n",
    "    plt.ylim(0,70)\n",
    "    plt.xlim(1,31)\n",
    "    #plt.figure(figsize=(8,12))\n",
    "    plt.rcParams['figure.figsize'] = [10, 5]\n",
    "    plt.show()\n",
    "    "
   ]
  },
  {
   "cell_type": "code",
   "execution_count": 27,
   "metadata": {},
   "outputs": [],
   "source": [
    "def get_day_of_week():\n",
    "    '''\n",
    "    takes in daily_freq_month and returns the day of the week that corresponds \n",
    "    to the busiest day\n",
    "    '''\n",
    "    max_val_month = max(dailyfreq_month)\n",
    "    max_index_month = dailyfreq_month.index(max_val_month)\n",
    "    #print(max_index_july2016)\n",
    "    day_of_week = dt.date(2016, 7, (max_index_month+1)).weekday()\n",
    "\n",
    "    if day_of_week == 0:\n",
    "        busiest_day = 'Monday'\n",
    "    elif day_of_week == 1:\n",
    "        busiest_day = \"Tuesday\"\n",
    "    elif day_of_week == 2:\n",
    "        busiest_day = \"Wednesday\"\n",
    "    elif day_of_week == 3:\n",
    "        busiest_day = \"Thursday\"\n",
    "    elif day_of_week == 4:\n",
    "        busiest_day = \"Friday\"\n",
    "    elif day_of_week == 5:\n",
    "        busiest_day = \"Saturday\"\n",
    "    else:\n",
    "        busiest_day = \"Sunday\"\n",
    "        \n",
    "    return busiest_day"
   ]
  },
  {
   "cell_type": "code",
   "execution_count": 28,
   "metadata": {},
   "outputs": [],
   "source": [
    "class get_stats_for_month():\n",
    "    '''\n",
    "    This class is designed to take in information for a desired month and \n",
    "    return different stats for said month\n",
    "    '''\n",
    "    \n",
    "    def __init__(self, length_of_month, month_num, year_num, date_array, darray):\n",
    "        self.month_length = length_of_month\n",
    "        self.month_num = month_num\n",
    "        self.year_num = year_num\n",
    "        self.date_array = date_array\n",
    "        self.darray = darray\n",
    "        \n",
    "    def get_indices_for_date(self):\n",
    "        \"\"\"\n",
    "        Gets the indices for each day for the entire month \n",
    "        \"\"\"\n",
    "        i = 1\n",
    "        month_array_indices = []\n",
    "        while i < self.month_length:\n",
    "            begin1, end1 = find_indices(self.month_num, i, self.year_num, self.date_array)\n",
    "            beginend = [begin1, end1]\n",
    "            month_array_indices.append(beginend)\n",
    "            i+=1\n",
    "            \n",
    "        self.month_array_indices = month_array_indices\n",
    "        print(self.month_array_indices)\n",
    "\n",
    "        #return month_array_indices\n",
    "    \n",
    "    def get_user_ids(self):\n",
    "        \"\"\"\n",
    "        Get user IDs for each of the days of the entire month using the indices that\n",
    "        were given\n",
    "        \"\"\"\n",
    "        userid_month = []\n",
    "        total_month = []\n",
    "        for t in range(self.month_length):\n",
    "            for i in range(0,len(self.darray)):\n",
    "                userid_month.append(self.darray[i][1])\n",
    "            practice = userid_month[self.month_array_indices[t-1][0]:self.month_array_indices[t-1][1]]\n",
    "            total_month.append(practice)\n",
    "            #t+=1\n",
    "            \n",
    "        self.total_month = total_month\n",
    "\n",
    "        #return total_month\n",
    "    \n",
    "    def get_daily_freq(self):\n",
    "        '''\n",
    "        takes in the length of month and the total_month from get_user_ids function\n",
    "        to get the unique users each day for the entire month\n",
    "        '''\n",
    "        dailyfreq_month = []\n",
    "\n",
    "        for i in range(self.month_length):\n",
    "            dailyuserid_month = self.total_month[i]\n",
    "            dailyuniqueusers = np.unique(dailyuserid_month)\n",
    "            dailyfreq_month.append(len(dailyuniqueusers))\n",
    "            \n",
    "        self.dailyfreq_month = dailyfreq_month\n",
    "\n",
    "        return dailyfreq_month\n",
    "    \n",
    "    def create_date_list(self):\n",
    "        '''\n",
    "        takes in the number of days and creates a list of dates up to the number of days \n",
    "        in the month\n",
    "        '''\n",
    "        date = []\n",
    "\n",
    "        for i in range(self.month_length):\n",
    "            i+=1\n",
    "            date.append(i)\n",
    "            \n",
    "        self.date = date\n",
    "\n",
    "        #return date\n",
    "    \n",
    "    def create_plot(self):\n",
    "        '''\n",
    "        creates a plot using date list and daily_freq_month \n",
    "        '''\n",
    "        #daily_freq_plot = plt.plot(date, dailyfreq_july2016, color = 'blue')\n",
    "        plt.plot(self.date, self.dailyfreq_month, color = 'blue')\n",
    "        plt.grid()\n",
    "        plt.title(\"Unique Scans by Day\")\n",
    "        plt.xlabel(\"Date\")\n",
    "        plt.xticks(np.arange(min(self.date), max(self.date)+1, 1.0))\n",
    "        plt.ylabel(\"Total Scans\")\n",
    "        plt.ylim(0,70)\n",
    "        plt.xlim(1,self.month_length)\n",
    "        #plt.figure(figsize=(8,12))\n",
    "        plt.rcParams['figure.figsize'] = [10, 5]\n",
    "        plt.show()\n",
    "    \n",
    "    def get_day_of_week(self):\n",
    "        '''\n",
    "        takes in daily_freq_month and returns the day of the week that corresponds \n",
    "        to the busiest day\n",
    "        '''\n",
    "        max_val_month = max(self.dailyfreq_month)\n",
    "        max_index_month = self.dailyfreq_month.index(max_val_month)\n",
    "        #print(max_index_july2016)\n",
    "        day_of_week = dt.date(2016, 7, (max_index_month+1)).weekday()\n",
    "\n",
    "        if day_of_week == 0:\n",
    "            busiest_day = 'Monday'\n",
    "        elif day_of_week == 1:\n",
    "            busiest_day = \"Tuesday\"\n",
    "        elif day_of_week == 2:\n",
    "            busiest_day = \"Wednesday\"\n",
    "        elif day_of_week == 3:\n",
    "            busiest_day = \"Thursday\"\n",
    "        elif day_of_week == 4:\n",
    "            busiest_day = \"Friday\"\n",
    "        elif day_of_week == 5:\n",
    "            busiest_day = \"Saturday\"\n",
    "        else:\n",
    "            busiest_day = \"Sunday\"\n",
    "            \n",
    "        self.busiest_day = busiest_day\n",
    "\n",
    "        return busiest_day\n"
   ]
  },
  {
   "cell_type": "code",
   "execution_count": 51,
   "metadata": {},
   "outputs": [],
   "source": [
    "jul2012_stats = get_stats_for_month(31, 7, 2012, dates_2012, data_2012)"
   ]
  },
  {
   "cell_type": "code",
   "execution_count": 52,
   "metadata": {},
   "outputs": [
    {
     "name": "stdout",
     "output_type": "stream",
     "text": [
      "[[5049, 5087], [5087, 5117], [5117, 5134], [5134, 5166], [5166, 5187], [5187, 5201], [5201, 5229], [5229, 5279], [5279, 5303], [5303, 5332], [5332, 5356], [5356, 5386], [5386, 5417], [5417, 5469], [5469, 5503], [5503, 5520], [5520, 5547], [5547, 5574], [5574, 5600], [5600, 5646], [5646, 5701], [5701, 5751], [5751, 5768], [5768, 5802], [5802, 5829], [5829, 5850], [5850, 5872], [5872, 5910], [5910, 5947], [5947, 5967]]\n"
     ]
    }
   ],
   "source": [
    "jul2012_stats.get_indices_for_date()"
   ]
  },
  {
   "cell_type": "code",
   "execution_count": 53,
   "metadata": {},
   "outputs": [],
   "source": [
    "jul2012_stats.get_user_ids()"
   ]
  },
  {
   "cell_type": "code",
   "execution_count": 54,
   "metadata": {},
   "outputs": [
    {
     "name": "stdout",
     "output_type": "stream",
     "text": [
      "[8, 10, 12, 7, 12, 8, 14, 22, 22, 6, 8, 14, 2, 6, 15, 14, 14, 2, 11, 5, 6, 17, 10, 6, 10, 14, 4, 9, 19, 13, 8]\n",
      "31\n",
      "[3, 8, 10, 13, 14, 11, 14, 10, 9, 10, 21, 16, 15, 13, 20, 20, 11, 27, 19, 19, 16, 15, 9, 3, 16, 25, 12, 15, 15, 14, 3]\n",
      "31\n",
      "[9, 18, 16, 8, 17, 11, 7, 15, 23, 14, 15, 12, 14, 15, 22, 17, 9, 13, 14, 12, 22, 26, 25, 8, 17, 14, 10, 11, 18, 16, 9]\n",
      "31\n",
      "[7, 11, 17, 12, 15, 14, 21, 20, 10, 24, 9, 10, 8, 7, 24, 10, 19, 17, 11, 7, 22, 25, 20, 7, 27, 23, 14, 17, 22, 12, 7]\n",
      "31\n"
     ]
    }
   ],
   "source": [
    "jul2012_dogpark = jul2012_stats.get_daily_freq()\n",
    "\n",
    "\n",
    "\n",
    "    \n",
    "print(jan2012_dogpark)\n",
    "print(len(jan2012_dogpark))\n",
    "print(mar2012_dogpark)\n",
    "print(len(mar2012_dogpark))\n",
    "print(jul2012_dogpark)\n",
    "print(len(jul2012_dogpark))\n",
    "print(oct2012_dogpark)\n",
    "print(len(oct2012_dogpark))"
   ]
  },
  {
   "cell_type": "markdown",
   "metadata": {},
   "source": [
    "These are the amount of unique scans for the entire month of January, March, July, and October. We chose these months so that we had a month from every season to get a wide range of temperatures and all the possible visits per day for these temperatures"
   ]
  },
  {
   "cell_type": "code",
   "execution_count": 55,
   "metadata": {},
   "outputs": [],
   "source": [
    "oct2012_stats.create_date_list()"
   ]
  },
  {
   "cell_type": "code",
   "execution_count": 56,
   "metadata": {},
   "outputs": [
    {
     "data": {
      "image/png": "[encoded data removed]",
      "text/plain": [
       "<Figure size 720x360 with 1 Axes>"
      ]
     },
     "metadata": {},
     "output_type": "display_data"
    }
   ],
   "source": [
    "oct2012_stats.create_plot()"
   ]
  },
  {
   "cell_type": "code",
   "execution_count": 57,
   "metadata": {},
   "outputs": [
    {
     "data": {
      "text/plain": [
       "'Monday'"
      ]
     },
     "execution_count": 57,
     "metadata": {},
     "output_type": "execute_result"
    }
   ],
   "source": [
    "oct2012_stats.get_day_of_week()"
   ]
  },
  {
   "cell_type": "markdown",
   "metadata": {},
   "source": [
    "## Finding the correlation between air temperature and visits per day to the dog park"
   ]
  },
  {
   "cell_type": "markdown",
   "metadata": {},
   "source": [
    "**Read in the weather data**"
   ]
  },
  {
   "cell_type": "code",
   "execution_count": 36,
   "metadata": {},
   "outputs": [
    {
     "data": {
      "text/plain": [
       "array([['USC00202437', 'EATON RAPIDS, MI US', '2012-01-03', nan, 17.0],\n",
       "       ['USC00202437', 'EATON RAPIDS, MI US', '2012-01-04', nan, 22.0],\n",
       "       ['USC00202437', 'EATON RAPIDS, MI US', '2012-01-09', nan, 28.0],\n",
       "       ...,\n",
       "       ['USW00014836', 'LANSING CAPITAL CITY AIRPORT, MI US',\n",
       "        '2018-09-28', 55.0, nan],\n",
       "       ['USW00014836', 'LANSING CAPITAL CITY AIRPORT, MI US',\n",
       "        '2018-09-29', 49.0, nan],\n",
       "       ['USW00014836', 'LANSING CAPITAL CITY AIRPORT, MI US',\n",
       "        '2018-09-30', 46.0, nan]], dtype=object)"
      ]
     },
     "execution_count": 36,
     "metadata": {},
     "output_type": "execute_result"
    }
   ],
   "source": [
    "\n",
    "\n",
    "weather = pd.read_csv('weather_data.csv', sep = ',', header = 0)\n",
    "weather = weather.values\n",
    "weather_data = np.zeros(4585)\n",
    "\n",
    "weather"
   ]
  },
  {
   "cell_type": "markdown",
   "metadata": {},
   "source": [
    "**Just the temperatures for the entire data set**"
   ]
  },
  {
   "cell_type": "code",
   "execution_count": 37,
   "metadata": {},
   "outputs": [
    {
     "data": {
      "text/plain": [
       "array([17., 22., 28., ..., 55., 49., 46.])"
      ]
     },
     "execution_count": 37,
     "metadata": {},
     "output_type": "execute_result"
    }
   ],
   "source": [
    "for i in range(2576):\n",
    "    weather_data[i] = weather[i][4]\n",
    "    \n",
    "for i in range(2009):\n",
    "    weather_data[i+2576] = weather[i+2733][3]\n",
    "    \n",
    "weather_data # data from 1/3/12 to 9/30/18"
   ]
  },
  {
   "cell_type": "code",
   "execution_count": 38,
   "metadata": {},
   "outputs": [],
   "source": [
    "def correct_date_for_weather(array):\n",
    "    '''\n",
    "    Correcting the dates for the weather since in the 'weather' data set, \n",
    "    the dates are not in the best format for our use\n",
    "    '''\n",
    "    correct_dates_weather = []\n",
    "    for i in range(0, len(array)):\n",
    "        date_time = array[i][2]\n",
    "        date = date_time[0:10]\n",
    "        find_month = date.partition('-')\n",
    "        year = int(find_month[0])\n",
    "        find_day = find_month[2].partition('-')\n",
    "        month = int(find_day[0])\n",
    "        day = int(find_day[2])\n",
    "        correct_dates_weather.append([month, day, year])\n",
    "    return(correct_dates_weather)\n",
    "\n",
    "corrected_weather_date = correct_date_for_weather(weather)"
   ]
  },
  {
   "cell_type": "markdown",
   "metadata": {},
   "source": [
    "**create an array that stores the month, date, year, temperature, and dog park visits on that day**"
   ]
  },
  {
   "cell_type": "code",
   "execution_count": 39,
   "metadata": {},
   "outputs": [
    {
     "data": {
      "text/plain": [
       "array([[   1,    1, 2012,   40,    0],\n",
       "       [   1,    2, 2012,   25,    0],\n",
       "       [   1,    3, 2012,   18,    0],\n",
       "       ...,\n",
       "       [   9,    3, 2013,   59,    0],\n",
       "       [   9,    4, 2013,   57,    0],\n",
       "       [   9,    5, 2013,   53,    0]])"
      ]
     },
     "execution_count": 39,
     "metadata": {},
     "output_type": "execute_result"
    }
   ],
   "source": [
    "complete_weather_temps = np.zeros((608,5), dtype=np.int)\n",
    "\n",
    "for i in range(len(weather)):\n",
    "    if weather[i][1] == 'GRAND LEDGE 1 NW, MI US':\n",
    "        \n",
    "        complete_weather_temps[i-2125][3] = weather[i][4]\n",
    "        complete_weather_temps[i-2125][0] = int(corrected_weather_date[i][0])\n",
    "        complete_weather_temps[i-2125][1] = int(corrected_weather_date[i][1])\n",
    "        complete_weather_temps[i-2125][2] = int(corrected_weather_date[i][2])\n",
    "        \n",
    "complete_weather_temps"
   ]
  },
  {
   "cell_type": "markdown",
   "metadata": {},
   "source": [
    "**Append the dog park data to the array**"
   ]
  },
  {
   "cell_type": "code",
   "execution_count": 40,
   "metadata": {},
   "outputs": [
    {
     "ename": "NameError",
     "evalue": "name 'jan2012_dogpark' is not defined",
     "output_type": "error",
     "traceback": [
      "\u001b[0;31m---------------------------------------------------------------------------\u001b[0m",
      "\u001b[0;31mNameError\u001b[0m                                 Traceback (most recent call last)",
      "\u001b[0;32m<ipython-input-40-81fa8cab4eb0>\u001b[0m in \u001b[0;36m<module>\u001b[0;34m()\u001b[0m\n\u001b[1;32m      1\u001b[0m \u001b[0;32mfor\u001b[0m \u001b[0mi\u001b[0m \u001b[0;32min\u001b[0m \u001b[0mrange\u001b[0m\u001b[0;34m(\u001b[0m\u001b[0;36m360\u001b[0m\u001b[0;34m)\u001b[0m\u001b[0;34m:\u001b[0m\u001b[0;34m\u001b[0m\u001b[0m\n\u001b[1;32m      2\u001b[0m     \u001b[0;32mif\u001b[0m \u001b[0mcomplete_weather_temps\u001b[0m\u001b[0;34m[\u001b[0m\u001b[0mi\u001b[0m\u001b[0;34m]\u001b[0m\u001b[0;34m[\u001b[0m\u001b[0;36m0\u001b[0m\u001b[0;34m]\u001b[0m \u001b[0;34m==\u001b[0m \u001b[0;36m1\u001b[0m\u001b[0;34m:\u001b[0m\u001b[0;34m\u001b[0m\u001b[0m\n\u001b[0;32m----> 3\u001b[0;31m         \u001b[0mcomplete_weather_temps\u001b[0m\u001b[0;34m[\u001b[0m\u001b[0mi\u001b[0m\u001b[0;34m]\u001b[0m\u001b[0;34m[\u001b[0m\u001b[0;36m4\u001b[0m\u001b[0;34m]\u001b[0m \u001b[0;34m=\u001b[0m \u001b[0mjan2012_dogpark\u001b[0m\u001b[0;34m[\u001b[0m\u001b[0mi\u001b[0m\u001b[0;34m]\u001b[0m\u001b[0;34m\u001b[0m\u001b[0m\n\u001b[0m\u001b[1;32m      4\u001b[0m     \u001b[0;32melif\u001b[0m \u001b[0mcomplete_weather_temps\u001b[0m\u001b[0;34m[\u001b[0m\u001b[0mi\u001b[0m\u001b[0;34m]\u001b[0m\u001b[0;34m[\u001b[0m\u001b[0;36m0\u001b[0m\u001b[0;34m]\u001b[0m \u001b[0;34m==\u001b[0m \u001b[0;36m3\u001b[0m\u001b[0;34m:\u001b[0m\u001b[0;34m\u001b[0m\u001b[0m\n\u001b[1;32m      5\u001b[0m         \u001b[0mcomplete_weather_temps\u001b[0m\u001b[0;34m[\u001b[0m\u001b[0mi\u001b[0m\u001b[0;34m]\u001b[0m\u001b[0;34m[\u001b[0m\u001b[0;36m4\u001b[0m\u001b[0;34m]\u001b[0m \u001b[0;34m=\u001b[0m \u001b[0mmar2012_dogpark\u001b[0m\u001b[0;34m[\u001b[0m\u001b[0mi\u001b[0m\u001b[0;34m-\u001b[0m\u001b[0;36m60\u001b[0m\u001b[0;34m]\u001b[0m\u001b[0;34m\u001b[0m\u001b[0m\n",
      "\u001b[0;31mNameError\u001b[0m: name 'jan2012_dogpark' is not defined"
     ]
    }
   ],
   "source": [
    "for i in range(360):\n",
    "    if complete_weather_temps[i][0] == 1:\n",
    "        complete_weather_temps[i][4] = jan2012_dogpark[i]\n",
    "    elif complete_weather_temps[i][0] == 3:\n",
    "        complete_weather_temps[i][4] = mar2012_dogpark[i-60]\n",
    "    elif complete_weather_temps[i][0] == 7:\n",
    "        complete_weather_temps[i][4] = jul2012_dogpark[i-179]\n",
    "    elif complete_weather_temps[i][0] == 10:\n",
    "        complete_weather_temps[i][4] = oct2012_dogpark[i-271]\n",
    "\n",
    "complete_weather_temps"
   ]
  },
  {
   "cell_type": "markdown",
   "metadata": {},
   "source": [
    "**Create a new array for only the months with complete data**"
   ]
  },
  {
   "cell_type": "code",
   "execution_count": 41,
   "metadata": {},
   "outputs": [
    {
     "data": {
      "text/plain": [
       "array([[0, 0, 0, 0, 0],\n",
       "       [0, 0, 0, 0, 0],\n",
       "       [0, 0, 0, 0, 0],\n",
       "       [0, 0, 0, 0, 0],\n",
       "       [0, 0, 0, 0, 0],\n",
       "       [0, 0, 0, 0, 0],\n",
       "       [0, 0, 0, 0, 0],\n",
       "       [0, 0, 0, 0, 0],\n",
       "       [0, 0, 0, 0, 0],\n",
       "       [0, 0, 0, 0, 0],\n",
       "       [0, 0, 0, 0, 0],\n",
       "       [0, 0, 0, 0, 0],\n",
       "       [0, 0, 0, 0, 0],\n",
       "       [0, 0, 0, 0, 0],\n",
       "       [0, 0, 0, 0, 0],\n",
       "       [0, 0, 0, 0, 0],\n",
       "       [0, 0, 0, 0, 0],\n",
       "       [0, 0, 0, 0, 0],\n",
       "       [0, 0, 0, 0, 0],\n",
       "       [0, 0, 0, 0, 0],\n",
       "       [0, 0, 0, 0, 0],\n",
       "       [0, 0, 0, 0, 0],\n",
       "       [0, 0, 0, 0, 0],\n",
       "       [0, 0, 0, 0, 0],\n",
       "       [0, 0, 0, 0, 0],\n",
       "       [0, 0, 0, 0, 0],\n",
       "       [0, 0, 0, 0, 0],\n",
       "       [0, 0, 0, 0, 0],\n",
       "       [0, 0, 0, 0, 0],\n",
       "       [0, 0, 0, 0, 0],\n",
       "       [0, 0, 0, 0, 0],\n",
       "       [0, 0, 0, 0, 0],\n",
       "       [0, 0, 0, 0, 0],\n",
       "       [0, 0, 0, 0, 0],\n",
       "       [0, 0, 0, 0, 0],\n",
       "       [0, 0, 0, 0, 0],\n",
       "       [0, 0, 0, 0, 0],\n",
       "       [0, 0, 0, 0, 0],\n",
       "       [0, 0, 0, 0, 0],\n",
       "       [0, 0, 0, 0, 0],\n",
       "       [0, 0, 0, 0, 0],\n",
       "       [0, 0, 0, 0, 0],\n",
       "       [0, 0, 0, 0, 0],\n",
       "       [0, 0, 0, 0, 0],\n",
       "       [0, 0, 0, 0, 0],\n",
       "       [0, 0, 0, 0, 0],\n",
       "       [0, 0, 0, 0, 0],\n",
       "       [0, 0, 0, 0, 0],\n",
       "       [0, 0, 0, 0, 0],\n",
       "       [0, 0, 0, 0, 0],\n",
       "       [0, 0, 0, 0, 0],\n",
       "       [0, 0, 0, 0, 0],\n",
       "       [0, 0, 0, 0, 0],\n",
       "       [0, 0, 0, 0, 0],\n",
       "       [0, 0, 0, 0, 0],\n",
       "       [0, 0, 0, 0, 0],\n",
       "       [0, 0, 0, 0, 0],\n",
       "       [0, 0, 0, 0, 0],\n",
       "       [0, 0, 0, 0, 0],\n",
       "       [0, 0, 0, 0, 0],\n",
       "       [0, 0, 0, 0, 0],\n",
       "       [0, 0, 0, 0, 0],\n",
       "       [0, 0, 0, 0, 0],\n",
       "       [0, 0, 0, 0, 0],\n",
       "       [0, 0, 0, 0, 0],\n",
       "       [0, 0, 0, 0, 0],\n",
       "       [0, 0, 0, 0, 0],\n",
       "       [0, 0, 0, 0, 0],\n",
       "       [0, 0, 0, 0, 0],\n",
       "       [0, 0, 0, 0, 0],\n",
       "       [0, 0, 0, 0, 0],\n",
       "       [0, 0, 0, 0, 0],\n",
       "       [0, 0, 0, 0, 0],\n",
       "       [0, 0, 0, 0, 0],\n",
       "       [0, 0, 0, 0, 0],\n",
       "       [0, 0, 0, 0, 0],\n",
       "       [0, 0, 0, 0, 0],\n",
       "       [0, 0, 0, 0, 0],\n",
       "       [0, 0, 0, 0, 0],\n",
       "       [0, 0, 0, 0, 0],\n",
       "       [0, 0, 0, 0, 0],\n",
       "       [0, 0, 0, 0, 0],\n",
       "       [0, 0, 0, 0, 0],\n",
       "       [0, 0, 0, 0, 0],\n",
       "       [0, 0, 0, 0, 0],\n",
       "       [0, 0, 0, 0, 0],\n",
       "       [0, 0, 0, 0, 0],\n",
       "       [0, 0, 0, 0, 0],\n",
       "       [0, 0, 0, 0, 0],\n",
       "       [0, 0, 0, 0, 0],\n",
       "       [0, 0, 0, 0, 0],\n",
       "       [0, 0, 0, 0, 0],\n",
       "       [0, 0, 0, 0, 0],\n",
       "       [0, 0, 0, 0, 0],\n",
       "       [0, 0, 0, 0, 0],\n",
       "       [0, 0, 0, 0, 0],\n",
       "       [0, 0, 0, 0, 0],\n",
       "       [0, 0, 0, 0, 0],\n",
       "       [0, 0, 0, 0, 0],\n",
       "       [0, 0, 0, 0, 0],\n",
       "       [0, 0, 0, 0, 0],\n",
       "       [0, 0, 0, 0, 0],\n",
       "       [0, 0, 0, 0, 0],\n",
       "       [0, 0, 0, 0, 0],\n",
       "       [0, 0, 0, 0, 0],\n",
       "       [0, 0, 0, 0, 0],\n",
       "       [0, 0, 0, 0, 0],\n",
       "       [0, 0, 0, 0, 0],\n",
       "       [0, 0, 0, 0, 0],\n",
       "       [0, 0, 0, 0, 0],\n",
       "       [0, 0, 0, 0, 0],\n",
       "       [0, 0, 0, 0, 0],\n",
       "       [0, 0, 0, 0, 0],\n",
       "       [0, 0, 0, 0, 0],\n",
       "       [0, 0, 0, 0, 0],\n",
       "       [0, 0, 0, 0, 0],\n",
       "       [0, 0, 0, 0, 0],\n",
       "       [0, 0, 0, 0, 0],\n",
       "       [0, 0, 0, 0, 0],\n",
       "       [0, 0, 0, 0, 0],\n",
       "       [0, 0, 0, 0, 0],\n",
       "       [0, 0, 0, 0, 0]])"
      ]
     },
     "execution_count": 41,
     "metadata": {},
     "output_type": "execute_result"
    }
   ],
   "source": [
    "predict_model_array = np.zeros((122,5), dtype=np.int)\n",
    "\n",
    "for i in range(len(complete_weather_temps)):\n",
    "    if complete_weather_temps[i][4] == 0:\n",
    "        continue\n",
    "    elif complete_weather_temps[i][0] == 1:\n",
    "        predict_model_array[i] = complete_weather_temps[i]\n",
    "    elif complete_weather_temps[i][0] == 3:\n",
    "        predict_model_array[i-29] = complete_weather_temps[i]\n",
    "    elif complete_weather_temps[i][0] == 7:\n",
    "        predict_model_array[i-118] = complete_weather_temps[i]\n",
    "    elif complete_weather_temps[i][0] == 10:\n",
    "        predict_model_array[i-179] = complete_weather_temps[i]\n",
    "        \n",
    "predict_model_array"
   ]
  },
  {
   "cell_type": "markdown",
   "metadata": {},
   "source": [
    "**Create a graph that shows the correlation between air temperature and unique scans by day**"
   ]
  },
  {
   "cell_type": "code",
   "execution_count": 42,
   "metadata": {},
   "outputs": [
    {
     "data": {
      "text/plain": [
       "(-10, 90)"
      ]
     },
     "execution_count": 42,
     "metadata": {},
     "output_type": "execute_result"
    },
    {
     "data": {
      "image/png": "[encoded data removed]",
      "text/plain": [
       "<Figure size 720x360 with 1 Axes>"
      ]
     },
     "metadata": {},
     "output_type": "display_data"
    }
   ],
   "source": [
    "plt.scatter(predict_model_array[:,3], predict_model_array[:,4])\n",
    "plt.title('Unique Scans vs. Air Temperature')\n",
    "plt.xlabel('Air Temperature (F)')\n",
    "plt.ylabel('Unique Scans by Day')\n",
    "plt.xlim(-10, 90)"
   ]
  },
  {
   "cell_type": "markdown",
   "metadata": {},
   "source": [
    "**Unfortunately, there is not much correlation in this graph, making a machine learning / line of regression completely unecessary and would then more than likely be inaccurate**"
   ]
  },
  {
   "cell_type": "code",
   "execution_count": null,
   "metadata": {},
   "outputs": [],
   "source": []
  },
  {
   "cell_type": "code",
   "execution_count": null,
   "metadata": {},
   "outputs": [],
   "source": []
  }
 ],
 "metadata": {
  "kernelspec": {
   "display_name": "Python 3",
   "language": "python",
   "name": "python3"
  },
  "language_info": {
   "codemirror_mode": {
    "name": "ipython",
    "version": 3
   },
   "file_extension": ".py",
   "mimetype": "text/x-python",
   "name": "python",
   "nbconvert_exporter": "python",
   "pygments_lexer": "ipython3",
   "version": "3.6.5"
  }
 },
 "nbformat": 4,
 "nbformat_minor": 2
}
