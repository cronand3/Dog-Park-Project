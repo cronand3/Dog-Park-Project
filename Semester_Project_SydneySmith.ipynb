{
 "cells": [
  {
   "cell_type": "markdown",
   "metadata": {
    "collapsed": true
   },
   "source": [
    "# Semester Project "
   ]
  },
  {
   "cell_type": "code",
   "execution_count": 1,
   "metadata": {
    "collapsed": true
   },
   "outputs": [],
   "source": [
    "import pandas as pd"
   ]
  },
  {
   "cell_type": "code",
   "execution_count": 2,
   "metadata": {},
   "outputs": [
    {
     "data": {
      "text/html": [
       "<div>\n",
       "<style>\n",
       "    .dataframe thead tr:only-child th {\n",
       "        text-align: right;\n",
       "    }\n",
       "\n",
       "    .dataframe thead th {\n",
       "        text-align: left;\n",
       "    }\n",
       "\n",
       "    .dataframe tbody tr th {\n",
       "        vertical-align: top;\n",
       "    }\n",
       "</style>\n",
       "<table border=\"1\" class=\"dataframe\">\n",
       "  <thead>\n",
       "    <tr style=\"text-align: right;\">\n",
       "      <th></th>\n",
       "      <th>Unnamed: 0</th>\n",
       "      <th>names</th>\n",
       "      <th>times</th>\n",
       "      <th>valid</th>\n",
       "    </tr>\n",
       "  </thead>\n",
       "  <tbody>\n",
       "    <tr>\n",
       "      <th>0</th>\n",
       "      <td>0</td>\n",
       "      <td>bdjdaabeacjjbibbafjcjdjfaibib</td>\n",
       "      <td>1/1/2012   8:31:46AM</td>\n",
       "      <td>Valid Access</td>\n",
       "    </tr>\n",
       "    <tr>\n",
       "      <th>1</th>\n",
       "      <td>1</td>\n",
       "      <td>abjejijgjejjbiagjebib</td>\n",
       "      <td>1/1/2012  10:27:20AM</td>\n",
       "      <td>Valid Access</td>\n",
       "    </tr>\n",
       "    <tr>\n",
       "      <th>2</th>\n",
       "      <td>2</td>\n",
       "      <td>abjejijgjejjbiagjebib</td>\n",
       "      <td>1/1/2012  10:52:26AM</td>\n",
       "      <td>Valid Access</td>\n",
       "    </tr>\n",
       "    <tr>\n",
       "      <th>3</th>\n",
       "      <td>3</td>\n",
       "      <td>jeaajfaijijdjjbijdjcbdjcbbbbaabib</td>\n",
       "      <td>1/1/2012  10:52:48AM</td>\n",
       "      <td>Valid Access</td>\n",
       "    </tr>\n",
       "    <tr>\n",
       "      <th>4</th>\n",
       "      <td>4</td>\n",
       "      <td>jeaajfaijijdjjbijdjcbdjcbbbbaabib</td>\n",
       "      <td>1/1/2012  11:19:56AM</td>\n",
       "      <td>Valid Access</td>\n",
       "    </tr>\n",
       "  </tbody>\n",
       "</table>\n",
       "</div>"
      ],
      "text/plain": [
       "   Unnamed: 0                              names                 times  \\\n",
       "0           0      bdjdaabeacjjbibbafjcjdjfaibib  1/1/2012   8:31:46AM   \n",
       "1           1              abjejijgjejjbiagjebib  1/1/2012  10:27:20AM   \n",
       "2           2              abjejijgjejjbiagjebib  1/1/2012  10:52:26AM   \n",
       "3           3  jeaajfaijijdjjbijdjcbdjcbbbbaabib  1/1/2012  10:52:48AM   \n",
       "4           4  jeaajfaijijdjjbijdjcbdjcbbbbaabib  1/1/2012  11:19:56AM   \n",
       "\n",
       "          valid  \n",
       "0  Valid Access  \n",
       "1  Valid Access  \n",
       "2  Valid Access  \n",
       "3  Valid Access  \n",
       "4  Valid Access  "
      ]
     },
     "execution_count": 2,
     "metadata": {},
     "output_type": "execute_result"
    }
   ],
   "source": [
    "dog_park = pd.read_csv(\"dogparkdata_2012to2018.csv\")\n",
    "dog_park.head()"
   ]
  },
  {
   "cell_type": "code",
   "execution_count": 9,
   "metadata": {},
   "outputs": [],
   "source": [
    "import numpy as np\n",
    "date = np.array(dog_park)[0][2]\n",
    "\n",
    "date?\n"
   ]
  },
  {
   "cell_type": "code",
   "execution_count": null,
   "metadata": {
    "collapsed": true
   },
   "outputs": [],
   "source": []
  },
  {
   "cell_type": "code",
   "execution_count": null,
   "metadata": {
    "collapsed": true
   },
   "outputs": [],
   "source": []
  },
  {
   "cell_type": "code",
   "execution_count": null,
   "metadata": {
    "collapsed": true
   },
   "outputs": [],
   "source": []
  }
 ],
 "metadata": {
  "kernelspec": {
   "display_name": "Python 3",
   "language": "python",
   "name": "python3"
  },
  "language_info": {
   "codemirror_mode": {
    "name": "ipython",
    "version": 3
   },
   "file_extension": ".py",
   "mimetype": "text/x-python",
   "name": "python",
   "nbconvert_exporter": "python",
   "pygments_lexer": "ipython3",
   "version": "3.6.3"
  }
 },
 "nbformat": 4,
 "nbformat_minor": 2
}
