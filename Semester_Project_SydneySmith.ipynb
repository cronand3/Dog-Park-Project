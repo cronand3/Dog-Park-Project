{
 "cells": [
  {
   "cell_type": "markdown",
   "metadata": {
    "collapsed": true
   },
   "source": [
    "# Semester Project "
   ]
  },
  {
   "cell_type": "code",
   "execution_count": 1,
   "metadata": {},
   "outputs": [],
   "source": [
    "# import needed modules\n",
    "import pandas as pd\n",
    "import numpy as np\n",
    "import datetime as dt\n",
    "from datetime import time\n",
    "import matplotlib.pyplot as plt\n",
    "%matplotlib inline\n",
    "import random"
   ]
  },
  {
   "cell_type": "code",
   "execution_count": 2,
   "metadata": {},
   "outputs": [
    {
     "data": {
      "text/html": [
       "<div>\n",
       "<style scoped>\n",
       "    .dataframe tbody tr th:only-of-type {\n",
       "        vertical-align: middle;\n",
       "    }\n",
       "\n",
       "    .dataframe tbody tr th {\n",
       "        vertical-align: top;\n",
       "    }\n",
       "\n",
       "    .dataframe thead th {\n",
       "        text-align: right;\n",
       "    }\n",
       "</style>\n",
       "<table border=\"1\" class=\"dataframe\">\n",
       "  <thead>\n",
       "    <tr style=\"text-align: right;\">\n",
       "      <th></th>\n",
       "      <th>Unnamed: 0</th>\n",
       "      <th>names</th>\n",
       "      <th>times</th>\n",
       "      <th>valid</th>\n",
       "    </tr>\n",
       "  </thead>\n",
       "  <tbody>\n",
       "    <tr>\n",
       "      <th>0</th>\n",
       "      <td>0</td>\n",
       "      <td>bdjdaabeacjjbibbafjcjdjfaibib</td>\n",
       "      <td>1/1/2012   8:31:46AM</td>\n",
       "      <td>Valid Access</td>\n",
       "    </tr>\n",
       "    <tr>\n",
       "      <th>1</th>\n",
       "      <td>1</td>\n",
       "      <td>abjejijgjejjbiagjebib</td>\n",
       "      <td>1/1/2012  10:27:20AM</td>\n",
       "      <td>Valid Access</td>\n",
       "    </tr>\n",
       "    <tr>\n",
       "      <th>2</th>\n",
       "      <td>2</td>\n",
       "      <td>abjejijgjejjbiagjebib</td>\n",
       "      <td>1/1/2012  10:52:26AM</td>\n",
       "      <td>Valid Access</td>\n",
       "    </tr>\n",
       "    <tr>\n",
       "      <th>3</th>\n",
       "      <td>3</td>\n",
       "      <td>jeaajfaijijdjjbijdjcbdjcbbbbaabib</td>\n",
       "      <td>1/1/2012  10:52:48AM</td>\n",
       "      <td>Valid Access</td>\n",
       "    </tr>\n",
       "    <tr>\n",
       "      <th>4</th>\n",
       "      <td>4</td>\n",
       "      <td>jeaajfaijijdjjbijdjcbdjcbbbbaabib</td>\n",
       "      <td>1/1/2012  11:19:56AM</td>\n",
       "      <td>Valid Access</td>\n",
       "    </tr>\n",
       "  </tbody>\n",
       "</table>\n",
       "</div>"
      ],
      "text/plain": [
       "   Unnamed: 0                              names                 times  \\\n",
       "0           0      bdjdaabeacjjbibbafjcjdjfaibib  1/1/2012   8:31:46AM   \n",
       "1           1              abjejijgjejjbiagjebib  1/1/2012  10:27:20AM   \n",
       "2           2              abjejijgjejjbiagjebib  1/1/2012  10:52:26AM   \n",
       "3           3  jeaajfaijijdjjbijdjcbdjcbbbbaabib  1/1/2012  10:52:48AM   \n",
       "4           4  jeaajfaijijdjjbijdjcbdjcbbbbaabib  1/1/2012  11:19:56AM   \n",
       "\n",
       "          valid  \n",
       "0  Valid Access  \n",
       "1  Valid Access  \n",
       "2  Valid Access  \n",
       "3  Valid Access  \n",
       "4  Valid Access  "
      ]
     },
     "execution_count": 2,
     "metadata": {},
     "output_type": "execute_result"
    }
   ],
   "source": [
    "# load in & examine the data!\n",
    "dog_park = pd.read_csv(\"dogparkdata_2012to2018.csv\")\n",
    "dog_park.head()"
   ]
  },
  {
   "cell_type": "code",
   "execution_count": 3,
   "metadata": {},
   "outputs": [],
   "source": [
    "# make the data more readable\n",
    "# make dataframe into an array & split based on year\n",
    "dog_park_array = np.array(dog_park)\n",
    "data_2012 = dog_park_array[0:10891]\n",
    "data_2013 = dog_park_array[10891:20945]\n",
    "data_2014 = dog_park_array[20945: 32605]\n",
    "data_2015 = dog_park_array[32605: 49340]\n",
    "data_2016 = dog_park_array[49340:70150]\n",
    "data_2017 = dog_park_array[70150:87560]\n",
    "data_2018 = dog_park_array[87560:110066]"
   ]
  },
  {
   "cell_type": "code",
   "execution_count": 4,
   "metadata": {},
   "outputs": [],
   "source": [
    "# deal with the yucky date/time string\n",
    "# this function will create an array with the correct times in military time in the format [hour, minute, second]\n",
    "def correct_time(array):\n",
    "    correct_times = []\n",
    "    for i in range(0,len(array)):\n",
    "        date_time = array[i][2] \n",
    "        time = date_time[-10:-2]\n",
    "        am_pm = date_time[-2]\n",
    "        minute = int(time[3:5])\n",
    "        second = int(time[6:8])\n",
    "        hour = int(time[0:2]) \n",
    "        if am_pm == 'A' and hour != 12:\n",
    "            correct_times.append([hour, minute,second])\n",
    "        elif am_pm == 'P'and hour != 12:\n",
    "            hour += 12\n",
    "            correct_times.append([hour, minute, second])\n",
    "        elif am_pm == 'A' and hour == 12:\n",
    "            hour = 0\n",
    "            correct_times.append([hour, minute, second])\n",
    "        elif am_pm == 'P' and hour == 12:\n",
    "            hour = 12\n",
    "            correct_times.append([hour,minute,second])\n",
    "    return(correct_times)    "
   ]
  },
  {
   "cell_type": "code",
   "execution_count": 6,
   "metadata": {},
   "outputs": [],
   "source": [
    "# dealing with the yucky date/time string continued\n",
    "# this function will create an array with the correct date in the format [month, day, year]\n",
    "def correct_date(array):\n",
    "    correct_dates = []\n",
    "    for i in range(0, len(array)):\n",
    "        date_time = array[i][2]\n",
    "        date = date_time[0:10]\n",
    "        find_month = date.partition('/')\n",
    "        month = int(find_month[0])\n",
    "        find_day = find_month[2].partition('/')\n",
    "        day = int(find_day[0])\n",
    "        year = int(find_day[2])\n",
    "        correct_dates.append([month,day,year])\n",
    "    return(correct_dates)"
   ]
  },
  {
   "cell_type": "code",
   "execution_count": 8,
   "metadata": {},
   "outputs": [],
   "source": [
    "times_2012 = correct_time(data_2012)\n",
    "dates_2012 = correct_date(data_2012)\n",
    "times_2013 = correct_time(data_2013)\n",
    "dates_2013 = correct_date(data_2013)\n",
    "times_2014 = correct_time(data_2014)\n",
    "dates_2014 = correct_date(data_2014)\n",
    "times_2015 = correct_time(data_2015)\n",
    "dates_2015 = correct_date(data_2015)\n",
    "times_2016 = correct_time(data_2016)\n",
    "dates_2016 = correct_date(data_2016)\n",
    "times_2017 = correct_time(data_2017)\n",
    "dates_2017 = correct_date(data_2017)\n",
    "times_2018 = correct_time(data_2018)\n",
    "dates_2018 = correct_date(data_2018)"
   ]
  },
  {
   "cell_type": "code",
   "execution_count": null,
   "metadata": {},
   "outputs": [],
   "source": [
    "#Modeling number of scans per year\n",
    "scans_per_year = [len(dates_2012),len(dates_2013),len(dates_2014),len(dates_2015), len(dates_2016),len(dates_2017),len(dates_2018)]\n",
    "year = [2012,2013,2014,2015,2016,2017,2018]\n",
    "plt.scatter(year,scans_per_year,color = \"navy\")\n",
    "plt.grid()\n",
    "plt.title(\"Overall Scans Per Year\")\n",
    "plt.xlabel(\"Year\")\n",
    "plt.ylabel(\"Total Scans\")"
   ]
  },
  {
   "cell_type": "code",
   "execution_count": 57,
   "metadata": {},
   "outputs": [
    {
     "data": {
      "text/plain": [
       "(1846, 1893)"
      ]
     },
     "execution_count": 57,
     "metadata": {},
     "output_type": "execute_result"
    }
   ],
   "source": [
    "# now we need to get into the real stuff, finding the times that people were at the park\n",
    "# first, we will define a function that determines what indices have the date we want\n",
    "\n",
    "def find_indices(month,day,year,date_array):\n",
    "    begin = date_array.index([month,day,year])\n",
    "    end = date_array.index([month,day+1,year]) \n",
    "    return(begin,end)\n",
    "\n",
    "#test!\n",
    "find_indices(2,14,2017,dates_2017)\n",
    "#this will return 2 numbers, the first one is the first entry of 2/14/2017, and the second one is the last entry"
   ]
  },
  {
   "cell_type": "code",
   "execution_count": 58,
   "metadata": {},
   "outputs": [],
   "source": [
    "# data 2012\n",
    "dates_2012\n",
    "\n",
    "\n",
    "def unique(dates):\n",
    "    unique_dates = []\n",
    "    for date in dates:\n",
    "        if date not in unique_dates:\n",
    "            unique_dates.append(date)\n",
    "    return unique_dates\n",
    "            \n",
    "unique_dates = unique(dates_2012)"
   ]
  },
  {
   "cell_type": "code",
   "execution_count": 29,
   "metadata": {},
   "outputs": [],
   "source": [
    "def userid(array):\n",
    "    ids = []\n",
    "    for i in range (0,len(array)):\n",
    "        name = array[i][1]\n",
    "        ids.append(name)\n",
    "        \n",
    "    return ids\n",
    "        "
   ]
  },
  {
   "cell_type": "code",
   "execution_count": 31,
   "metadata": {},
   "outputs": [],
   "source": [
    "users_2012 = userid(data_2012)\n",
    "users_2013 = userid(data_2013)\n",
    "users_2014 = userid(data_2014)\n",
    "users_2015 = userid(data_2015)\n",
    "users_2016 = userid(data_2016)\n",
    "users_2017 = userid(data_2017)\n",
    "users_2018 = userid(data_2018)"
   ]
  },
  {
   "cell_type": "code",
   "execution_count": 56,
   "metadata": {},
   "outputs": [],
   "source": [
    "# now we should begin figuring out when people were at the dog park!\n",
    "def when_was_i_there(user_id, day_array, time_array):\n",
    "    times = []\n",
    "    all_users = userid(day_array)\n",
    "    indices = [i for i, x in enumerate(all_users) if x == user_id]\n",
    "    \n",
    "    if len(indices) == 1:\n",
    "        ent_exit = time_array[indices[0]]\n",
    "        if ent_exit[1] >= 30:\n",
    "            enter = [ent_exit[0],ent_exit[1]-30,ent_exit[2]]\n",
    "            exit = [ent_exit[0]+1,60-ent_exit[1],ent_exit[2]]\n",
    "        elif ent_exit[1] < 30:\n",
    "            enter = [ent_exit[0]-1, 60 - ent_exit[1],ent_exit[2]]\n",
    "            exit = [ent_exit[0],ent_exit[1] + 30, ent_exit[2]]\n",
    "            \n",
    "            \n",
    "    elif len(incices) == 2:\n",
    "        enter = time_array[indices[0]]\n",
    "        exit = time_array[indices[1]]\n",
    "    return(times)\n",
    "  "
   ]
  },
  {
   "cell_type": "code",
   "execution_count": 38,
   "metadata": {},
   "outputs": [
    {
     "data": {
      "text/plain": [
       "176"
      ]
     },
     "execution_count": 38,
     "metadata": {},
     "output_type": "execute_result"
    }
   ],
   "source": []
  },
  {
   "cell_type": "code",
   "execution_count": null,
   "metadata": {
    "collapsed": true
   },
   "outputs": [],
   "source": []
  },
  {
   "cell_type": "code",
   "execution_count": null,
   "metadata": {
    "collapsed": true
   },
   "outputs": [],
   "source": []
  },
  {
   "cell_type": "code",
   "execution_count": null,
   "metadata": {
    "collapsed": true
   },
   "outputs": [],
   "source": []
  },
  {
   "cell_type": "code",
   "execution_count": null,
   "metadata": {
    "collapsed": true
   },
   "outputs": [],
   "source": []
  },
  {
   "cell_type": "code",
   "execution_count": null,
   "metadata": {
    "collapsed": true
   },
   "outputs": [],
   "source": []
  },
  {
   "cell_type": "code",
   "execution_count": null,
   "metadata": {
    "collapsed": true
   },
   "outputs": [],
   "source": []
  },
  {
   "cell_type": "code",
   "execution_count": null,
   "metadata": {
    "collapsed": true
   },
   "outputs": [],
   "source": []
  },
  {
   "cell_type": "code",
   "execution_count": null,
   "metadata": {
    "collapsed": true
   },
   "outputs": [],
   "source": []
  },
  {
   "cell_type": "code",
   "execution_count": null,
   "metadata": {
    "collapsed": true
   },
   "outputs": [],
   "source": []
  },
  {
   "cell_type": "code",
   "execution_count": null,
   "metadata": {
    "collapsed": true
   },
   "outputs": [],
   "source": []
  },
  {
   "cell_type": "code",
   "execution_count": null,
   "metadata": {
    "collapsed": true
   },
   "outputs": [],
   "source": []
  },
  {
   "cell_type": "code",
   "execution_count": null,
   "metadata": {
    "collapsed": true
   },
   "outputs": [],
   "source": []
  },
  {
   "cell_type": "code",
   "execution_count": null,
   "metadata": {
    "collapsed": true
   },
   "outputs": [],
   "source": []
  },
  {
   "cell_type": "code",
   "execution_count": null,
   "metadata": {
    "collapsed": true
   },
   "outputs": [],
   "source": []
  },
  {
   "cell_type": "code",
   "execution_count": null,
   "metadata": {
    "collapsed": true
   },
   "outputs": [],
   "source": []
  },
  {
   "cell_type": "code",
   "execution_count": null,
   "metadata": {
    "collapsed": true
   },
   "outputs": [],
   "source": []
  },
  {
   "cell_type": "code",
   "execution_count": null,
   "metadata": {
    "collapsed": true
   },
   "outputs": [],
   "source": []
  },
  {
   "cell_type": "code",
   "execution_count": 100,
   "metadata": {},
   "outputs": [
    {
     "data": {
      "text/plain": [
       "[8, 7, 2014]"
      ]
     },
     "execution_count": 100,
     "metadata": {},
     "output_type": "execute_result"
    }
   ],
   "source": [
    "# We can start getting into modeling the most popular times by using 1 day as an example. \n",
    "random_day = [np.random.randint(1,13), np.random.randint(1,32),random.randint(2012,2018)]\n",
    "random_day"
   ]
  }
 ],
 "metadata": {
  "kernelspec": {
   "display_name": "Python 3",
   "language": "python",
   "name": "python3"
  },
  "language_info": {
   "codemirror_mode": {
    "name": "ipython",
    "version": 3
   },
   "file_extension": ".py",
   "mimetype": "text/x-python",
   "name": "python",
   "nbconvert_exporter": "python",
   "pygments_lexer": "ipython3",
   "version": "3.6.5"
  }
 },
 "nbformat": 4,
 "nbformat_minor": 2
}
