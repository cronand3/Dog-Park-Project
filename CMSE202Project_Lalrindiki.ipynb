{
 "cells": [
  {
   "cell_type": "markdown",
   "metadata": {},
   "source": [
    "# <center> Dog Pupularity Patterns</center>\n",
    "\n",
    "<center>By: Sydney Smith, Jared Mohammed,\n",
    " Ally Cronander, Marilyn Lalrindiki\n",
    "</center>\n"
   ]
  },
  {
   "cell_type": "markdown",
   "metadata": {},
   "source": [
    "---\n",
    "\n",
    "<img src=\"https://s.abcnews.com/images/Health/puppies-01-stock-gty-jef-180920_hpMain_16x9_1600.jpg\" width=500px>"
   ]
  },
  {
   "cell_type": "markdown",
   "metadata": {},
   "source": [
    "## Introduction\n",
    "\n",
    "Dog parks’ popularity varies depending on the day and time. Ingham County dog parks operate under a locked gate and key fob system to ensure all dogs entering the park are registered and vaccinated. Data from these gates has been recorded, including who comes in and who leaves at what times.This data can be used to model the popularity of the park.\n",
    "\n",
    "The focal points that are being targeted are as follows:\n",
    "* What are the overall scans per year?\n",
    "\n",
    "* What is the most popular day to visit the dog park?\n",
    "\n",
    "* The times that everyone punches in"
   ]
  },
  {
   "cell_type": "markdown",
   "metadata": {},
   "source": [
    "## Coding"
   ]
  },
  {
   "cell_type": "code",
   "execution_count": 2,
   "metadata": {
    "collapsed": true
   },
   "outputs": [],
   "source": [
    "#Imports\n",
    "#imports\n",
    "import math \n",
    "import numpy as np\n",
    "import matplotlib.pyplot as plt\n",
    "\n",
    "#makes matplotlib (and pandas) plots show up in the notebook\n",
    "%matplotlib inline\n",
    "\n",
    "#the following two lines make all plots show up in formats that are high-resolution\n",
    "from IPython.display import set_matplotlib_formats\n",
    "set_matplotlib_formats('pdf', 'svg')\n",
    "\n",
    "#actually import the Pandas module\n",
    "import pandas as pd"
   ]
  },
  {
   "cell_type": "code",
   "execution_count": 4,
   "metadata": {
    "scrolled": true
   },
   "outputs": [
    {
     "data": {
      "text/html": [
       "<div>\n",
       "<style>\n",
       "    .dataframe thead tr:only-child th {\n",
       "        text-align: right;\n",
       "    }\n",
       "\n",
       "    .dataframe thead th {\n",
       "        text-align: left;\n",
       "    }\n",
       "\n",
       "    .dataframe tbody tr th {\n",
       "        vertical-align: top;\n",
       "    }\n",
       "</style>\n",
       "<table border=\"1\" class=\"dataframe\">\n",
       "  <thead>\n",
       "    <tr style=\"text-align: right;\">\n",
       "      <th></th>\n",
       "      <th>Unnamed: 0</th>\n",
       "      <th>names</th>\n",
       "      <th>times</th>\n",
       "      <th>valid</th>\n",
       "    </tr>\n",
       "  </thead>\n",
       "  <tbody>\n",
       "    <tr>\n",
       "      <th>0</th>\n",
       "      <td>0</td>\n",
       "      <td>bdjdaabeacjjbibbafjcjdjfaibib</td>\n",
       "      <td>1/1/2012   8:31:46AM</td>\n",
       "      <td>Valid Access</td>\n",
       "    </tr>\n",
       "    <tr>\n",
       "      <th>1</th>\n",
       "      <td>1</td>\n",
       "      <td>abjejijgjejjbiagjebib</td>\n",
       "      <td>1/1/2012  10:27:20AM</td>\n",
       "      <td>Valid Access</td>\n",
       "    </tr>\n",
       "    <tr>\n",
       "      <th>2</th>\n",
       "      <td>2</td>\n",
       "      <td>abjejijgjejjbiagjebib</td>\n",
       "      <td>1/1/2012  10:52:26AM</td>\n",
       "      <td>Valid Access</td>\n",
       "    </tr>\n",
       "    <tr>\n",
       "      <th>3</th>\n",
       "      <td>3</td>\n",
       "      <td>jeaajfaijijdjjbijdjcbdjcbbbbaabib</td>\n",
       "      <td>1/1/2012  10:52:48AM</td>\n",
       "      <td>Valid Access</td>\n",
       "    </tr>\n",
       "    <tr>\n",
       "      <th>4</th>\n",
       "      <td>4</td>\n",
       "      <td>jeaajfaijijdjjbijdjcbdjcbbbbaabib</td>\n",
       "      <td>1/1/2012  11:19:56AM</td>\n",
       "      <td>Valid Access</td>\n",
       "    </tr>\n",
       "    <tr>\n",
       "      <th>5</th>\n",
       "      <td>5</td>\n",
       "      <td>acjhbbahjhbeabjibejjbiahjdjhabjejhjcbib</td>\n",
       "      <td>1/1/2012  11:20:13AM</td>\n",
       "      <td>Valid Access</td>\n",
       "    </tr>\n",
       "    <tr>\n",
       "      <th>6</th>\n",
       "      <td>6</td>\n",
       "      <td>acjhbbahjhbeabjibejjbiahjdjhabjejhjcbib</td>\n",
       "      <td>1/1/2012  11:35:37AM</td>\n",
       "      <td>Valid Access</td>\n",
       "    </tr>\n",
       "    <tr>\n",
       "      <th>7</th>\n",
       "      <td>7</td>\n",
       "      <td>acjijbbejhbeaejjbiabaabcaabebeaaafbib</td>\n",
       "      <td>1/1/2012  12:48:51PM</td>\n",
       "      <td>Valid Access</td>\n",
       "    </tr>\n",
       "    <tr>\n",
       "      <th>8</th>\n",
       "      <td>8</td>\n",
       "      <td>acjijbbejhbeaejjbiabaabcaabebeaaafbib</td>\n",
       "      <td>1/1/2012   1:22:28PM</td>\n",
       "      <td>Valid Access</td>\n",
       "    </tr>\n",
       "    <tr>\n",
       "      <th>9</th>\n",
       "      <td>9</td>\n",
       "      <td>afjcjdadjijdacjjbiagjcaabebibgbh</td>\n",
       "      <td>1/1/2012   1:51:26PM</td>\n",
       "      <td>Valid Access</td>\n",
       "    </tr>\n",
       "    <tr>\n",
       "      <th>10</th>\n",
       "      <td>10</td>\n",
       "      <td>acaajhaijfbiajaaababbiijjbibib</td>\n",
       "      <td>1/1/2012   2:30:51PM</td>\n",
       "      <td>Valid Access</td>\n",
       "    </tr>\n",
       "    <tr>\n",
       "      <th>11</th>\n",
       "      <td>11</td>\n",
       "      <td>bdjdjcbebejcbejjbibfjhahjcbhjfjgahaajdjhbibgbh</td>\n",
       "      <td>1/1/2012   2:37:13PM</td>\n",
       "      <td>Valid Access</td>\n",
       "    </tr>\n",
       "    <tr>\n",
       "      <th>12</th>\n",
       "      <td>12</td>\n",
       "      <td>acaajhaijfbiajaaababbiijjbibib</td>\n",
       "      <td>1/1/2012   3:20:06PM</td>\n",
       "      <td>Valid Access</td>\n",
       "    </tr>\n",
       "    <tr>\n",
       "      <th>13</th>\n",
       "      <td>13</td>\n",
       "      <td>adjibajjbiaabfjfbib</td>\n",
       "      <td>1/1/2012   3:26:14PM</td>\n",
       "      <td>Valid Access</td>\n",
       "    </tr>\n",
       "    <tr>\n",
       "      <th>14</th>\n",
       "      <td>14</td>\n",
       "      <td>bdjdjcbebejcbejjbibfjhahjcbhjfjgahaajdjhbibgbh</td>\n",
       "      <td>1/1/2012   3:30:36PM</td>\n",
       "      <td>Valid Access</td>\n",
       "    </tr>\n",
       "    <tr>\n",
       "      <th>15</th>\n",
       "      <td>15</td>\n",
       "      <td>adjibajjbiaabfjfbib</td>\n",
       "      <td>1/1/2012   3:55:53PM</td>\n",
       "      <td>Valid Access</td>\n",
       "    </tr>\n",
       "    <tr>\n",
       "      <th>16</th>\n",
       "      <td>16</td>\n",
       "      <td>jejcjdjdjfjjbijejdaabcjhabbib</td>\n",
       "      <td>1/1/2012   4:36:43PM</td>\n",
       "      <td>Valid Access</td>\n",
       "    </tr>\n",
       "    <tr>\n",
       "      <th>17</th>\n",
       "      <td>17</td>\n",
       "      <td>jejcjdjdjfjjbijejdaabcjhabbib</td>\n",
       "      <td>1/1/2012   4:54:51PM</td>\n",
       "      <td>Valid Access</td>\n",
       "    </tr>\n",
       "    <tr>\n",
       "      <th>18</th>\n",
       "      <td>18</td>\n",
       "      <td>aijibbahjhbeaejejibejjbibbjfbejeafjhaabib</td>\n",
       "      <td>1/2/2012   8:14:16AM</td>\n",
       "      <td>Valid Access</td>\n",
       "    </tr>\n",
       "    <tr>\n",
       "      <th>19</th>\n",
       "      <td>19</td>\n",
       "      <td>bdjcjfjcjdaijcjhbejjbiabjgabaabebib</td>\n",
       "      <td>1/2/2012   8:23:23AM</td>\n",
       "      <td>Valid Access</td>\n",
       "    </tr>\n",
       "    <tr>\n",
       "      <th>20</th>\n",
       "      <td>20</td>\n",
       "      <td>aijibbahjhbeaejejibejjbibbjfbejeafjhaabib</td>\n",
       "      <td>1/2/2012   9:00:18AM</td>\n",
       "      <td>Valid Access</td>\n",
       "    </tr>\n",
       "    <tr>\n",
       "      <th>21</th>\n",
       "      <td>21</td>\n",
       "      <td>bdjdaabeacjjbibbafjcjdjfaibib</td>\n",
       "      <td>1/2/2012   9:23:18AM</td>\n",
       "      <td>Valid Access</td>\n",
       "    </tr>\n",
       "    <tr>\n",
       "      <th>22</th>\n",
       "      <td>22</td>\n",
       "      <td>abbbafjbjcacaajjbiahjcbcjhbebib</td>\n",
       "      <td>1/2/2012   9:43:26AM</td>\n",
       "      <td>Valid Access</td>\n",
       "    </tr>\n",
       "    <tr>\n",
       "      <th>23</th>\n",
       "      <td>23</td>\n",
       "      <td>bdjcjfjcjdaijcjhbejjbiabjgabaabebib</td>\n",
       "      <td>1/2/2012   9:44:22AM</td>\n",
       "      <td>Valid Access</td>\n",
       "    </tr>\n",
       "    <tr>\n",
       "      <th>24</th>\n",
       "      <td>24</td>\n",
       "      <td>abbbafjbjcacaajjbiahjcbcjhbebib</td>\n",
       "      <td>1/2/2012  10:14:02AM</td>\n",
       "      <td>Valid Access</td>\n",
       "    </tr>\n",
       "    <tr>\n",
       "      <th>25</th>\n",
       "      <td>25</td>\n",
       "      <td>bdjcaajejejfjjbibbafjcjdjfaibib</td>\n",
       "      <td>1/2/2012  10:47:32AM</td>\n",
       "      <td>Valid Access</td>\n",
       "    </tr>\n",
       "    <tr>\n",
       "      <th>26</th>\n",
       "      <td>26</td>\n",
       "      <td>abjejijgjejjbiagjebib</td>\n",
       "      <td>1/2/2012  11:11:34AM</td>\n",
       "      <td>Valid Access</td>\n",
       "    </tr>\n",
       "    <tr>\n",
       "      <th>27</th>\n",
       "      <td>27</td>\n",
       "      <td>bbjibejbjcaiaijjbibbjgjdjejhabbib</td>\n",
       "      <td>1/2/2012  11:22:36AM</td>\n",
       "      <td>Valid Access</td>\n",
       "    </tr>\n",
       "    <tr>\n",
       "      <th>28</th>\n",
       "      <td>28</td>\n",
       "      <td>adaajdjdaabeacjjbiabbbjijejebib</td>\n",
       "      <td>1/2/2012  11:57:03AM</td>\n",
       "      <td>Valid Access</td>\n",
       "    </tr>\n",
       "    <tr>\n",
       "      <th>29</th>\n",
       "      <td>29</td>\n",
       "      <td>abjejijgjejjbiagjebib</td>\n",
       "      <td>1/2/2012  11:57:07AM</td>\n",
       "      <td>Valid Access</td>\n",
       "    </tr>\n",
       "    <tr>\n",
       "      <th>...</th>\n",
       "      <td>...</td>\n",
       "      <td>...</td>\n",
       "      <td>...</td>\n",
       "      <td>...</td>\n",
       "    </tr>\n",
       "    <tr>\n",
       "      <th>110037</th>\n",
       "      <td>22477</td>\n",
       "      <td>bjjgbfbdjcjdaejjbibbaajeafjfbibgbbaajdacbibbh</td>\n",
       "      <td>10/25/2018   2:46:36PM</td>\n",
       "      <td>Valid Access</td>\n",
       "    </tr>\n",
       "    <tr>\n",
       "      <th>110038</th>\n",
       "      <td>22478</td>\n",
       "      <td>ajaajejejcjdabjibejjbijcaijhababaabib</td>\n",
       "      <td>10/25/2018   3:02:08PM</td>\n",
       "      <td>Valid Access</td>\n",
       "    </tr>\n",
       "    <tr>\n",
       "      <th>110039</th>\n",
       "      <td>22479</td>\n",
       "      <td>aijcjibeaajdacjjbibfaajdjfbib</td>\n",
       "      <td>10/25/2018   3:07:29PM</td>\n",
       "      <td>Valid Access</td>\n",
       "    </tr>\n",
       "    <tr>\n",
       "      <th>110040</th>\n",
       "      <td>22480</td>\n",
       "      <td>abjejcjhbejcjdjjbiagjhaiaibib</td>\n",
       "      <td>10/25/2018   3:21:26PM</td>\n",
       "      <td>Valid Access</td>\n",
       "    </tr>\n",
       "    <tr>\n",
       "      <th>110041</th>\n",
       "      <td>22481</td>\n",
       "      <td>abjejcjhbejcjdjjbiagjhaiaibib</td>\n",
       "      <td>10/25/2018   3:21:33PM</td>\n",
       "      <td>Valid Access</td>\n",
       "    </tr>\n",
       "    <tr>\n",
       "      <th>110042</th>\n",
       "      <td>22482</td>\n",
       "      <td>adjcjdahaabejfjjbibfaajejebib</td>\n",
       "      <td>10/25/2018   3:44:17PM</td>\n",
       "      <td>Valid Access</td>\n",
       "    </tr>\n",
       "    <tr>\n",
       "      <th>110043</th>\n",
       "      <td>22483</td>\n",
       "      <td>abafaabejcjdjjbibfjcaijhababaabib</td>\n",
       "      <td>10/25/2018   3:44:22PM</td>\n",
       "      <td>Valid Access</td>\n",
       "    </tr>\n",
       "    <tr>\n",
       "      <th>110044</th>\n",
       "      <td>22484</td>\n",
       "      <td>abafaabejcjdjjbibfjcaijhababaabib</td>\n",
       "      <td>10/25/2018   3:44:26PM</td>\n",
       "      <td>Valid Access</td>\n",
       "    </tr>\n",
       "    <tr>\n",
       "      <th>110045</th>\n",
       "      <td>22485</td>\n",
       "      <td>ajaajejejcjdabjibejjbijcaijhababaabib</td>\n",
       "      <td>10/25/2018   3:45:35PM</td>\n",
       "      <td>Valid Access</td>\n",
       "    </tr>\n",
       "    <tr>\n",
       "      <th>110046</th>\n",
       "      <td>22486</td>\n",
       "      <td>adjcjdahaabejfjjbibfaajejebib</td>\n",
       "      <td>10/25/2018   4:23:23PM</td>\n",
       "      <td>Valid Access</td>\n",
       "    </tr>\n",
       "    <tr>\n",
       "      <th>110047</th>\n",
       "      <td>22487</td>\n",
       "      <td>abafaabejcjdjjbibfjcaijhababaabib</td>\n",
       "      <td>10/25/2018   4:25:57PM</td>\n",
       "      <td>Valid Access</td>\n",
       "    </tr>\n",
       "    <tr>\n",
       "      <th>110048</th>\n",
       "      <td>22488</td>\n",
       "      <td>abafaabejcjdjjbibfjcaijhababaabib</td>\n",
       "      <td>10/25/2018   4:26:02PM</td>\n",
       "      <td>Valid Access</td>\n",
       "    </tr>\n",
       "    <tr>\n",
       "      <th>110049</th>\n",
       "      <td>22489</td>\n",
       "      <td>jdaabfjibejjbibdjdjhaabebib</td>\n",
       "      <td>10/25/2018   4:31:19PM</td>\n",
       "      <td>Valid Access</td>\n",
       "    </tr>\n",
       "    <tr>\n",
       "      <th>110050</th>\n",
       "      <td>22490</td>\n",
       "      <td>afaajeaijhbejcjjbiahjcbcjhbebib</td>\n",
       "      <td>10/25/2018   4:53:17PM</td>\n",
       "      <td>Valid Access</td>\n",
       "    </tr>\n",
       "    <tr>\n",
       "      <th>110051</th>\n",
       "      <td>22491</td>\n",
       "      <td>aijcjibeaajdacjjbibfaajdjfbib</td>\n",
       "      <td>10/25/2018   4:58:58PM</td>\n",
       "      <td>Valid Access</td>\n",
       "    </tr>\n",
       "    <tr>\n",
       "      <th>110052</th>\n",
       "      <td>22492</td>\n",
       "      <td>aajhjdjiaiaajjbiabjejcbcjcbib</td>\n",
       "      <td>10/25/2018   5:06:28PM</td>\n",
       "      <td>Valid Access</td>\n",
       "    </tr>\n",
       "    <tr>\n",
       "      <th>110053</th>\n",
       "      <td>22493</td>\n",
       "      <td>abjejcjhbejcjdjjbiagjhaiaibib</td>\n",
       "      <td>10/25/2018   5:22:02PM</td>\n",
       "      <td>Valid Access</td>\n",
       "    </tr>\n",
       "    <tr>\n",
       "      <th>110054</th>\n",
       "      <td>22494</td>\n",
       "      <td>jdaabfjibejjbibdjdjhaabebib</td>\n",
       "      <td>10/25/2018   5:26:45PM</td>\n",
       "      <td>Valid Access</td>\n",
       "    </tr>\n",
       "    <tr>\n",
       "      <th>110055</th>\n",
       "      <td>22495</td>\n",
       "      <td>afaajeaijhbejcjjbiahjcbcjhbebib</td>\n",
       "      <td>10/25/2018   5:32:50PM</td>\n",
       "      <td>Valid Access</td>\n",
       "    </tr>\n",
       "    <tr>\n",
       "      <th>110056</th>\n",
       "      <td>22496</td>\n",
       "      <td>aajhjdjiaiaajjbiabjejcbcjcbib</td>\n",
       "      <td>10/25/2018   5:58:11PM</td>\n",
       "      <td>Valid Access</td>\n",
       "    </tr>\n",
       "    <tr>\n",
       "      <th>110057</th>\n",
       "      <td>22497</td>\n",
       "      <td>afaajbahbijhabaiaabeacjjbiaeaajejcafjijgabjcbi...</td>\n",
       "      <td>10/25/2018   5:58:55PM</td>\n",
       "      <td>Valid Access</td>\n",
       "    </tr>\n",
       "    <tr>\n",
       "      <th>110058</th>\n",
       "      <td>22498</td>\n",
       "      <td>jdjhbbbbjhjjbiaijfbeabjcjfbib</td>\n",
       "      <td>10/25/2018   6:06:59PM</td>\n",
       "      <td>Valid Access</td>\n",
       "    </tr>\n",
       "    <tr>\n",
       "      <th>110059</th>\n",
       "      <td>22499</td>\n",
       "      <td>adaajdaijcjfjjbiaijhabaabibgbbaajdacbicbh</td>\n",
       "      <td>10/25/2018   6:15:14PM</td>\n",
       "      <td>Valid Access</td>\n",
       "    </tr>\n",
       "    <tr>\n",
       "      <th>110060</th>\n",
       "      <td>22500</td>\n",
       "      <td>adaajdaijcjfjjbiaijhabaabibgbbaajdacbicbh</td>\n",
       "      <td>10/25/2018   6:15:15PM</td>\n",
       "      <td>Valid Access</td>\n",
       "    </tr>\n",
       "    <tr>\n",
       "      <th>110061</th>\n",
       "      <td>22501</td>\n",
       "      <td>afaajbahbijhabaiaabeacjjbiaeaajejcafjijgabjcbi...</td>\n",
       "      <td>10/25/2018   6:32:48PM</td>\n",
       "      <td>Valid Access</td>\n",
       "    </tr>\n",
       "    <tr>\n",
       "      <th>110062</th>\n",
       "      <td>22502</td>\n",
       "      <td>bbafjcbeaajgaijejjbiagjhaiaibibgbbaajdacbibbh</td>\n",
       "      <td>10/25/2018   6:34:09PM</td>\n",
       "      <td>Valid Access</td>\n",
       "    </tr>\n",
       "    <tr>\n",
       "      <th>110063</th>\n",
       "      <td>22503</td>\n",
       "      <td>bbafjcbeaajgaijejjbiagjhaiaibibgbbaajdacbibbh</td>\n",
       "      <td>10/25/2018   7:09:54PM</td>\n",
       "      <td>Valid Access</td>\n",
       "    </tr>\n",
       "    <tr>\n",
       "      <th>110064</th>\n",
       "      <td>22504</td>\n",
       "      <td>adaajdaijcjfjjbiaijhabaabibgbbaajdacbicbh</td>\n",
       "      <td>10/25/2018   7:16:09PM</td>\n",
       "      <td>Valid Access</td>\n",
       "    </tr>\n",
       "    <tr>\n",
       "      <th>110065</th>\n",
       "      <td>22505</td>\n",
       "      <td>adaajdaijcjfjjbiaijhabaabibgbbaajdacbicbh</td>\n",
       "      <td>10/25/2018   7:16:10PM</td>\n",
       "      <td>Valid Access</td>\n",
       "    </tr>\n",
       "    <tr>\n",
       "      <th>110066</th>\n",
       "      <td>22506</td>\n",
       "      <td>adaajdaijcjfjjbiaijhabaabibgbbaajdacbicbh</td>\n",
       "      <td>10/25/2018   7:16:12PM</td>\n",
       "      <td>Valid Access</td>\n",
       "    </tr>\n",
       "  </tbody>\n",
       "</table>\n",
       "<p>110067 rows × 4 columns</p>\n",
       "</div>"
      ],
      "text/plain": [
       "        Unnamed: 0                                              names  \\\n",
       "0                0                      bdjdaabeacjjbibbafjcjdjfaibib   \n",
       "1                1                              abjejijgjejjbiagjebib   \n",
       "2                2                              abjejijgjejjbiagjebib   \n",
       "3                3                  jeaajfaijijdjjbijdjcbdjcbbbbaabib   \n",
       "4                4                  jeaajfaijijdjjbijdjcbdjcbbbbaabib   \n",
       "5                5            acjhbbahjhbeabjibejjbiahjdjhabjejhjcbib   \n",
       "6                6            acjhbbahjhbeabjibejjbiahjdjhabjejhjcbib   \n",
       "7                7              acjijbbejhbeaejjbiabaabcaabebeaaafbib   \n",
       "8                8              acjijbbejhbeaejjbiabaabcaabebeaaafbib   \n",
       "9                9                   afjcjdadjijdacjjbiagjcaabebibgbh   \n",
       "10              10                     acaajhaijfbiajaaababbiijjbibib   \n",
       "11              11     bdjdjcbebejcbejjbibfjhahjcbhjfjgahaajdjhbibgbh   \n",
       "12              12                     acaajhaijfbiajaaababbiijjbibib   \n",
       "13              13                                adjibajjbiaabfjfbib   \n",
       "14              14     bdjdjcbebejcbejjbibfjhahjcbhjfjgahaajdjhbibgbh   \n",
       "15              15                                adjibajjbiaabfjfbib   \n",
       "16              16                      jejcjdjdjfjjbijejdaabcjhabbib   \n",
       "17              17                      jejcjdjdjfjjbijejdaabcjhabbib   \n",
       "18              18          aijibbahjhbeaejejibejjbibbjfbejeafjhaabib   \n",
       "19              19                bdjcjfjcjdaijcjhbejjbiabjgabaabebib   \n",
       "20              20          aijibbahjhbeaejejibejjbibbjfbejeafjhaabib   \n",
       "21              21                      bdjdaabeacjjbibbafjcjdjfaibib   \n",
       "22              22                    abbbafjbjcacaajjbiahjcbcjhbebib   \n",
       "23              23                bdjcjfjcjdaijcjhbejjbiabjgabaabebib   \n",
       "24              24                    abbbafjbjcacaajjbiahjcbcjhbebib   \n",
       "25              25                    bdjcaajejejfjjbibbafjcjdjfaibib   \n",
       "26              26                              abjejijgjejjbiagjebib   \n",
       "27              27                  bbjibejbjcaiaijjbibbjgjdjejhabbib   \n",
       "28              28                    adaajdjdaabeacjjbiabbbjijejebib   \n",
       "29              29                              abjejijgjejjbiagjebib   \n",
       "...            ...                                                ...   \n",
       "110037       22477      bjjgbfbdjcjdaejjbibbaajeafjfbibgbbaajdacbibbh   \n",
       "110038       22478              ajaajejejcjdabjibejjbijcaijhababaabib   \n",
       "110039       22479                      aijcjibeaajdacjjbibfaajdjfbib   \n",
       "110040       22480                      abjejcjhbejcjdjjbiagjhaiaibib   \n",
       "110041       22481                      abjejcjhbejcjdjjbiagjhaiaibib   \n",
       "110042       22482                      adjcjdahaabejfjjbibfaajejebib   \n",
       "110043       22483                  abafaabejcjdjjbibfjcaijhababaabib   \n",
       "110044       22484                  abafaabejcjdjjbibfjcaijhababaabib   \n",
       "110045       22485              ajaajejejcjdabjibejjbijcaijhababaabib   \n",
       "110046       22486                      adjcjdahaabejfjjbibfaajejebib   \n",
       "110047       22487                  abafaabejcjdjjbibfjcaijhababaabib   \n",
       "110048       22488                  abafaabejcjdjjbibfjcaijhababaabib   \n",
       "110049       22489                        jdaabfjibejjbibdjdjhaabebib   \n",
       "110050       22490                    afaajeaijhbejcjjbiahjcbcjhbebib   \n",
       "110051       22491                      aijcjibeaajdacjjbibfaajdjfbib   \n",
       "110052       22492                      aajhjdjiaiaajjbiabjejcbcjcbib   \n",
       "110053       22493                      abjejcjhbejcjdjjbiagjhaiaibib   \n",
       "110054       22494                        jdaabfjibejjbibdjdjhaabebib   \n",
       "110055       22495                    afaajeaijhbejcjjbiahjcbcjhbebib   \n",
       "110056       22496                      aajhjdjiaiaajjbiabjejcbcjcbib   \n",
       "110057       22497  afaajbahbijhabaiaabeacjjbiaeaajejcafjijgabjcbi...   \n",
       "110058       22498                      jdjhbbbbjhjjbiaijfbeabjcjfbib   \n",
       "110059       22499          adaajdaijcjfjjbiaijhabaabibgbbaajdacbicbh   \n",
       "110060       22500          adaajdaijcjfjjbiaijhabaabibgbbaajdacbicbh   \n",
       "110061       22501  afaajbahbijhabaiaabeacjjbiaeaajejcafjijgabjcbi...   \n",
       "110062       22502      bbafjcbeaajgaijejjbiagjhaiaibibgbbaajdacbibbh   \n",
       "110063       22503      bbafjcbeaajgaijejjbiagjhaiaibibgbbaajdacbibbh   \n",
       "110064       22504          adaajdaijcjfjjbiaijhabaabibgbbaajdacbicbh   \n",
       "110065       22505          adaajdaijcjfjjbiaijhabaabibgbbaajdacbicbh   \n",
       "110066       22506          adaajdaijcjfjjbiaijhabaabibgbbaajdacbicbh   \n",
       "\n",
       "                         times         valid  \n",
       "0         1/1/2012   8:31:46AM  Valid Access  \n",
       "1         1/1/2012  10:27:20AM  Valid Access  \n",
       "2         1/1/2012  10:52:26AM  Valid Access  \n",
       "3         1/1/2012  10:52:48AM  Valid Access  \n",
       "4         1/1/2012  11:19:56AM  Valid Access  \n",
       "5         1/1/2012  11:20:13AM  Valid Access  \n",
       "6         1/1/2012  11:35:37AM  Valid Access  \n",
       "7         1/1/2012  12:48:51PM  Valid Access  \n",
       "8         1/1/2012   1:22:28PM  Valid Access  \n",
       "9         1/1/2012   1:51:26PM  Valid Access  \n",
       "10        1/1/2012   2:30:51PM  Valid Access  \n",
       "11        1/1/2012   2:37:13PM  Valid Access  \n",
       "12        1/1/2012   3:20:06PM  Valid Access  \n",
       "13        1/1/2012   3:26:14PM  Valid Access  \n",
       "14        1/1/2012   3:30:36PM  Valid Access  \n",
       "15        1/1/2012   3:55:53PM  Valid Access  \n",
       "16        1/1/2012   4:36:43PM  Valid Access  \n",
       "17        1/1/2012   4:54:51PM  Valid Access  \n",
       "18        1/2/2012   8:14:16AM  Valid Access  \n",
       "19        1/2/2012   8:23:23AM  Valid Access  \n",
       "20        1/2/2012   9:00:18AM  Valid Access  \n",
       "21        1/2/2012   9:23:18AM  Valid Access  \n",
       "22        1/2/2012   9:43:26AM  Valid Access  \n",
       "23        1/2/2012   9:44:22AM  Valid Access  \n",
       "24        1/2/2012  10:14:02AM  Valid Access  \n",
       "25        1/2/2012  10:47:32AM  Valid Access  \n",
       "26        1/2/2012  11:11:34AM  Valid Access  \n",
       "27        1/2/2012  11:22:36AM  Valid Access  \n",
       "28        1/2/2012  11:57:03AM  Valid Access  \n",
       "29        1/2/2012  11:57:07AM  Valid Access  \n",
       "...                        ...           ...  \n",
       "110037  10/25/2018   2:46:36PM  Valid Access  \n",
       "110038  10/25/2018   3:02:08PM  Valid Access  \n",
       "110039  10/25/2018   3:07:29PM  Valid Access  \n",
       "110040  10/25/2018   3:21:26PM  Valid Access  \n",
       "110041  10/25/2018   3:21:33PM  Valid Access  \n",
       "110042  10/25/2018   3:44:17PM  Valid Access  \n",
       "110043  10/25/2018   3:44:22PM  Valid Access  \n",
       "110044  10/25/2018   3:44:26PM  Valid Access  \n",
       "110045  10/25/2018   3:45:35PM  Valid Access  \n",
       "110046  10/25/2018   4:23:23PM  Valid Access  \n",
       "110047  10/25/2018   4:25:57PM  Valid Access  \n",
       "110048  10/25/2018   4:26:02PM  Valid Access  \n",
       "110049  10/25/2018   4:31:19PM  Valid Access  \n",
       "110050  10/25/2018   4:53:17PM  Valid Access  \n",
       "110051  10/25/2018   4:58:58PM  Valid Access  \n",
       "110052  10/25/2018   5:06:28PM  Valid Access  \n",
       "110053  10/25/2018   5:22:02PM  Valid Access  \n",
       "110054  10/25/2018   5:26:45PM  Valid Access  \n",
       "110055  10/25/2018   5:32:50PM  Valid Access  \n",
       "110056  10/25/2018   5:58:11PM  Valid Access  \n",
       "110057  10/25/2018   5:58:55PM  Valid Access  \n",
       "110058  10/25/2018   6:06:59PM  Valid Access  \n",
       "110059  10/25/2018   6:15:14PM  Valid Access  \n",
       "110060  10/25/2018   6:15:15PM  Valid Access  \n",
       "110061  10/25/2018   6:32:48PM  Valid Access  \n",
       "110062  10/25/2018   6:34:09PM  Valid Access  \n",
       "110063  10/25/2018   7:09:54PM  Valid Access  \n",
       "110064  10/25/2018   7:16:09PM  Valid Access  \n",
       "110065  10/25/2018   7:16:10PM  Valid Access  \n",
       "110066  10/25/2018   7:16:12PM  Valid Access  \n",
       "\n",
       "[110067 rows x 4 columns]"
      ]
     },
     "execution_count": 4,
     "metadata": {},
     "output_type": "execute_result"
    }
   ],
   "source": [
    "dog_park = pd.read_csv('dogparkdata_2012to2018.csv')\n",
    "dog_park"
   ]
  },
  {
   "cell_type": "code",
   "execution_count": 5,
   "metadata": {
    "collapsed": true
   },
   "outputs": [],
   "source": [
    "# make the data more readable\n",
    "# make dataframe into an array & split based on year\n",
    "dog_park_array = np.array(dog_park)\n",
    "data_2012 = dog_park_array[0:10891]\n",
    "data_2013 = dog_park_array[10891:20945]\n",
    "data_2014 = dog_park_array[20945: 32605]\n",
    "data_2015 = dog_park_array[32605: 49340]\n",
    "data_2016 = dog_park_array[49340:70150]\n",
    "data_2017 = dog_park_array[70150:87560]\n",
    "data_2018 = dog_park_array[87560:110066]"
   ]
  },
  {
   "cell_type": "code",
   "execution_count": 6,
   "metadata": {
    "collapsed": true
   },
   "outputs": [],
   "source": [
    "# deal with the yucky date/time string\n",
    "# this function will create an array with the correct times in military time in the format [hour, minute, second]\n",
    "def correct_time(array):\n",
    "    correct_times = []\n",
    "    for i in range(0,len(array)):\n",
    "        date_time = array[i][2] \n",
    "        time = date_time[-10:-2]\n",
    "        am_pm = date_time[-2]\n",
    "        minute = int(time[3:5])\n",
    "        second = int(time[6:8])\n",
    "        hour = int(time[0:2]) \n",
    "        if am_pm == 'A' and hour != 12:\n",
    "            correct_times.append([hour, minute,second])\n",
    "        elif am_pm == 'P'and hour != 12:\n",
    "            hour += 12\n",
    "            correct_times.append([hour, minute, second])\n",
    "        elif am_pm == 'A' and hour == 12:\n",
    "            hour = 0\n",
    "            correct_times.append([hour, minute, second])\n",
    "        elif am_pm == 'P' and hour == 12:\n",
    "            hour = 12\n",
    "            correct_times.append([hour,minute,second])\n",
    "    return(correct_times)    "
   ]
  },
  {
   "cell_type": "code",
   "execution_count": 7,
   "metadata": {
    "collapsed": true
   },
   "outputs": [],
   "source": [
    "# dealing with the yucky date/time string continued\n",
    "# this function will create an array with the correct date in the format [month, day, year]\n",
    "def correct_date(array):\n",
    "    correct_dates = []\n",
    "    for i in range(0, len(array)):\n",
    "        date_time = array[i][2]\n",
    "        date = date_time[0:10]\n",
    "        find_month = date.partition('/')\n",
    "        month = int(find_month[0])\n",
    "        find_day = find_month[2].partition('/')\n",
    "        day = int(find_day[0])\n",
    "        year = int(find_day[2])\n",
    "        correct_dates.append([month,day,year])\n",
    "    return(correct_dates)"
   ]
  },
  {
   "cell_type": "code",
   "execution_count": 8,
   "metadata": {
    "collapsed": true
   },
   "outputs": [],
   "source": [
    "times_2012 = correct_time(data_2012)\n",
    "dates_2012 = correct_date(data_2012)\n",
    "times_2013 = correct_time(data_2013)\n",
    "dates_2013 = correct_date(data_2013)\n",
    "times_2014 = correct_time(data_2014)\n",
    "dates_2014 = correct_date(data_2014)\n",
    "times_2015 = correct_time(data_2015)\n",
    "dates_2015 = correct_date(data_2015)\n",
    "times_2016 = correct_time(data_2016)\n",
    "dates_2016 = correct_date(data_2016)\n",
    "times_2017 = correct_time(data_2017)\n",
    "dates_2017 = correct_date(data_2017)\n",
    "times_2018 = correct_time(data_2018)\n",
    "dates_2018 = correct_date(data_2018)"
   ]
  },
  {
   "cell_type": "code",
   "execution_count": 54,
   "metadata": {},
   "outputs": [
    {
     "data": {
      "text/plain": [
       "(9342, 9394)"
      ]
     },
     "execution_count": 54,
     "metadata": {},
     "output_type": "execute_result"
    }
   ],
   "source": [
    "# now we need to get into the real stuff, finding the times that people were at the park\n",
    "# first, we will define a function that determines what indices have the date we want\n",
    "\n",
    "def find_indices(month,day,year,date_array):\n",
    "    begin = date_array.index([month,day,year])\n",
    "    end = date_array.index([month,day+1,year]) \n",
    "    return(begin,end)\n",
    "\n",
    "#test!\n",
    "find_indices(12,1,2013,dates_2013)\n",
    "#this will return 2 numbers, the first one is the first entry of 2/14/2017, and the second one is the last entry"
   ]
  },
  {
   "cell_type": "code",
   "execution_count": 144,
   "metadata": {},
   "outputs": [
    {
     "data": {
      "text/plain": [
       "(0, 39)"
      ]
     },
     "execution_count": 144,
     "metadata": {},
     "output_type": "execute_result"
    }
   ],
   "source": [
    "find_indices(1,1,2013,dates_2013)"
   ]
  },
  {
   "cell_type": "code",
   "execution_count": 145,
   "metadata": {
    "scrolled": true
   },
   "outputs": [
    {
     "data": {
      "text/plain": [
       "(849, 863)"
      ]
     },
     "execution_count": 145,
     "metadata": {},
     "output_type": "execute_result"
    }
   ],
   "source": [
    "find_indices(2,1,2013,dates_2013)"
   ]
  },
  {
   "cell_type": "code",
   "execution_count": 146,
   "metadata": {},
   "outputs": [
    {
     "data": {
      "text/plain": [
       "(1734, 1762)"
      ]
     },
     "execution_count": 146,
     "metadata": {},
     "output_type": "execute_result"
    }
   ],
   "source": [
    "find_indices(3,1,2013,dates_2013)"
   ]
  },
  {
   "cell_type": "code",
   "execution_count": null,
   "metadata": {
    "collapsed": true
   },
   "outputs": [],
   "source": [
    "find_indices(12,1,2013,dates_2013)"
   ]
  },
  {
   "cell_type": "code",
   "execution_count": 55,
   "metadata": {
    "collapsed": true
   },
   "outputs": [],
   "source": [
    "#2013\n",
    "\n",
    "#2013\n",
    "\n",
    "jan2013 = dates_2013[0:848]\n",
    "feb2013 = dates_2013[849:1733]\n",
    "mar2013 = dates_2013[1734:2667]\n",
    "apr2013 = dates_2013[2668:3426]\n",
    "may2013 = data_2013[3427:4578]\n",
    "june2013 = data_2013[4579:5792]\n",
    "jul2013 = data_2013[5793:6468]\n",
    "aug2013 = data_2013[6469:8183]\n",
    "#sept2013 = data_2013[] This data does not exist \n",
    "oct2013 = data_2013[8184:8292]\n",
    "nov2013 = data_2013[8293:9341]\n",
    "dec2013 = data_2013[9342:]"
   ]
  },
  {
   "cell_type": "code",
   "execution_count": 56,
   "metadata": {},
   "outputs": [
    {
     "data": {
      "text/plain": [
       "(15449, 15461)"
      ]
     },
     "execution_count": 56,
     "metadata": {},
     "output_type": "execute_result"
    }
   ],
   "source": [
    "find_indices(12,1,2015,dates_2015)"
   ]
  },
  {
   "cell_type": "code",
   "execution_count": 53,
   "metadata": {
    "collapsed": true
   },
   "outputs": [],
   "source": [
    "#2015\n",
    "\n",
    "jan2015 = dates_2015[0:1028]\n",
    "feb2015 = dates_2015[1029:1561]\n",
    "mar2015 = dates_2015[1562:2548]\n",
    "apr2015 = dates_2015[2549:3946]\n",
    "may2015 = data_2015[3947:5480]\n",
    "june2015 = data_2015[5481:7084]\n",
    "jul2015 = data_2015[7085:8545]\n",
    "aug2015 = data_2015[8546:10349]\n",
    "sept2015 = data_2015[10350:12125] \n",
    "oct2015 = data_2015[12126:13767]\n",
    "nov2015 = data_2015[13768:15448]\n",
    "dec2015 = data_2015[15449:]"
   ]
  },
  {
   "cell_type": "code",
   "execution_count": 136,
   "metadata": {},
   "outputs": [
    {
     "data": {
      "text/plain": [
       "(14509, 14521)"
      ]
     },
     "execution_count": 136,
     "metadata": {},
     "output_type": "execute_result"
    }
   ],
   "source": [
    "find_indices(10,18,2017,dates_2017)"
   ]
  },
  {
   "cell_type": "code",
   "execution_count": 137,
   "metadata": {},
   "outputs": [
    {
     "data": {
      "text/plain": [
       "(15942, 16013)"
      ]
     },
     "execution_count": 137,
     "metadata": {},
     "output_type": "execute_result"
    }
   ],
   "source": [
    "find_indices(12,1,2017,dates_2017)"
   ]
  },
  {
   "cell_type": "code",
   "execution_count": 139,
   "metadata": {
    "collapsed": true
   },
   "outputs": [],
   "source": [
    "#2017\n",
    "\n",
    "jan2017 = dates_2017[0:1193]\n",
    "feb2017 = dates_2017[1194:2797]\n",
    "mar2017 = dates_2017[2798:4390]\n",
    "apr2017 = dates_2017[4391:6400]\n",
    "may2017 = data_2017[6401:8534]\n",
    "june2017 = data_2017[8535:9952]\n",
    "jul2017 = data_2017[9953:10351]\n",
    "aug2017 = data_2017[10352:12634]\n",
    "sept2017 = data_2017[12635:14508] \n",
    "oct2017 = data_2017[14509:14709]\n",
    "nov2017 = data_2017[14710:15941]\n",
    "dec2017 = data_2017[15942:]"
   ]
  },
  {
   "cell_type": "code",
   "execution_count": 143,
   "metadata": {},
   "outputs": [
    {
     "ename": "TypeError",
     "evalue": "list indices must be integers or slices, not tuple",
     "output_type": "error",
     "traceback": [
      "\u001b[0;31m---------------------------------------------------------------------------\u001b[0m",
      "\u001b[0;31mTypeError\u001b[0m                                 Traceback (most recent call last)",
      "\u001b[0;32m<ipython-input-143-be1d79c3803e>\u001b[0m in \u001b[0;36m<module>\u001b[0;34m()\u001b[0m\n\u001b[0;32m----> 1\u001b[0;31m \u001b[0mplt\u001b[0m\u001b[0;34m.\u001b[0m\u001b[0mscatter\u001b[0m\u001b[0;34m(\u001b[0m\u001b[0mjan2017\u001b[0m\u001b[0;34m[\u001b[0m\u001b[0;34m:\u001b[0m\u001b[0;34m,\u001b[0m\u001b[0;36m0\u001b[0m\u001b[0;34m]\u001b[0m\u001b[0;34m,\u001b[0m\u001b[0mfeb2017\u001b[0m\u001b[0;34m[\u001b[0m\u001b[0;34m:\u001b[0m\u001b[0;34m,\u001b[0m\u001b[0;36m0\u001b[0m\u001b[0;34m]\u001b[0m\u001b[0;34m)\u001b[0m\u001b[0;34m\u001b[0m\u001b[0m\n\u001b[0m",
      "\u001b[0;31mTypeError\u001b[0m: list indices must be integers or slices, not tuple"
     ]
    }
   ],
   "source": [
    "plt.scatter(jan2017[:,0],feb2017[:,0])"
   ]
  },
  {
   "cell_type": "markdown",
   "metadata": {},
   "source": [
    "### Question: What is the best time to go to the park based on the date and time?\n",
    "\n",
    "### Most popular days\n",
    "\n",
    "### How popularity has changed through the times of the year"
   ]
  },
  {
   "cell_type": "code",
   "execution_count": 1,
   "metadata": {
    "collapsed": true
   },
   "outputs": [],
   "source": [
    "import calendar"
   ]
  },
  {
   "cell_type": "code",
   "execution_count": 12,
   "metadata": {},
   "outputs": [
    {
     "name": "stdout",
     "output_type": "stream",
     "text": [
      "   December 1998\n",
      "Su Mo Tu We Th Fr Sa\n",
      "       1  2  3  4  5\n",
      " 6  7  8  9 10 11 12\n",
      "13 14 15 16 17 18 19\n",
      "20 21 22 23 24 25 26\n",
      "27 28 29 30 31\n",
      "\n"
     ]
    }
   ],
   "source": [
    "c = calendar.TextCalendar(calendar.SUNDAY)\n",
    "\n",
    "str = c.formatmonth(1998,12)\n",
    "print(str)"
   ]
  },
  {
   "cell_type": "code",
   "execution_count": 16,
   "metadata": {},
   "outputs": [
    {
     "ename": "NameError",
     "evalue": "name 'times_2017' is not defined",
     "output_type": "error",
     "traceback": [
      "\u001b[0;31m---------------------------------------------------------------------------\u001b[0m",
      "\u001b[0;31mNameError\u001b[0m                                 Traceback (most recent call last)",
      "\u001b[0;32m<ipython-input-16-8dac6b34ea89>\u001b[0m in \u001b[0;36m<module>\u001b[0;34m()\u001b[0m\n\u001b[1;32m      2\u001b[0m \u001b[0;32mwith\u001b[0m \u001b[0mopen\u001b[0m\u001b[0;34m(\u001b[0m\u001b[0;34m\"data.csv\"\u001b[0m\u001b[0;34m,\u001b[0m\u001b[0;34m\"w+\"\u001b[0m\u001b[0;34m)\u001b[0m \u001b[0;32mas\u001b[0m \u001b[0mout_file\u001b[0m\u001b[0;34m:\u001b[0m\u001b[0;34m\u001b[0m\u001b[0m\n\u001b[1;32m      3\u001b[0m \u001b[0;34m\u001b[0m\u001b[0m\n\u001b[0;32m----> 4\u001b[0;31m     \u001b[0;32mfor\u001b[0m \u001b[0mi\u001b[0m \u001b[0;32min\u001b[0m \u001b[0mrange\u001b[0m\u001b[0;34m(\u001b[0m\u001b[0mlen\u001b[0m\u001b[0;34m(\u001b[0m\u001b[0mtimes_2017\u001b[0m\u001b[0;34m)\u001b[0m\u001b[0;34m)\u001b[0m\u001b[0;34m:\u001b[0m\u001b[0;34m\u001b[0m\u001b[0m\n\u001b[0m\u001b[1;32m      5\u001b[0m \u001b[0;34m\u001b[0m\u001b[0m\n\u001b[1;32m      6\u001b[0m         \u001b[0mout_string\u001b[0m \u001b[0;34m=\u001b[0m \u001b[0;34m\"\"\u001b[0m\u001b[0;34m\u001b[0m\u001b[0m\n",
      "\u001b[0;31mNameError\u001b[0m: name 'times_2017' is not defined"
     ]
    }
   ],
   "source": [
    "#Seeing each data more clearly by saving it into its own file\n",
    "with open(\"data.csv\",\"w+\") as out_file:\n",
    "    \n",
    "    for i in range(len(times_2017)): #times_2017 is defined in sydney's notebook\n",
    "        \n",
    "        out_string = \"\"\n",
    "        out_string +=\"\\n\"\n",
    "    out_file.write(out_string)\n"
   ]
  },
  {
   "cell_type": "code",
   "execution_count": null,
   "metadata": {
    "collapsed": true
   },
   "outputs": [],
   "source": [
    "!cat data.csv"
   ]
  },
  {
   "cell_type": "code",
   "execution_count": 1,
   "metadata": {
    "collapsed": true
   },
   "outputs": [],
   "source": [
    "# https://stackoverflow.com/questions/13784192/creating-an-empty-pandas-dataframe-then-filling-it"
   ]
  },
  {
   "cell_type": "code",
   "execution_count": 3,
   "metadata": {},
   "outputs": [
    {
     "ename": "NameError",
     "evalue": "name 'oldDF' is not defined",
     "output_type": "error",
     "traceback": [
      "\u001b[0;31m---------------------------------------------------------------------------\u001b[0m",
      "\u001b[0;31mNameError\u001b[0m                                 Traceback (most recent call last)",
      "\u001b[0;32m<ipython-input-3-b6e549ffc785>\u001b[0m in \u001b[0;36m<module>\u001b[0;34m()\u001b[0m\n\u001b[1;32m      1\u001b[0m \u001b[0;32mimport\u001b[0m \u001b[0mpandas\u001b[0m \u001b[0;32mas\u001b[0m \u001b[0mpd\u001b[0m\u001b[0;34m\u001b[0m\u001b[0m\n\u001b[1;32m      2\u001b[0m \u001b[0mnewDF\u001b[0m \u001b[0;34m=\u001b[0m \u001b[0mpd\u001b[0m\u001b[0;34m.\u001b[0m\u001b[0mDataFrame\u001b[0m\u001b[0;34m(\u001b[0m\u001b[0;34m)\u001b[0m \u001b[0;31m#creates a new dataframe that's empty\u001b[0m\u001b[0;34m\u001b[0m\u001b[0m\n\u001b[0;32m----> 3\u001b[0;31m \u001b[0mnewDF\u001b[0m \u001b[0;34m=\u001b[0m \u001b[0mnewDF\u001b[0m\u001b[0;34m.\u001b[0m\u001b[0mappend\u001b[0m\u001b[0;34m(\u001b[0m\u001b[0moldDF\u001b[0m\u001b[0;34m,\u001b[0m \u001b[0mignore_index\u001b[0m \u001b[0;34m=\u001b[0m \u001b[0;32mTrue\u001b[0m\u001b[0;34m)\u001b[0m \u001b[0;31m# ignoring index is optional\u001b[0m\u001b[0;34m\u001b[0m\u001b[0m\n\u001b[0m\u001b[1;32m      4\u001b[0m \u001b[0;31m# try printing some data from newDF\u001b[0m\u001b[0;34m\u001b[0m\u001b[0;34m\u001b[0m\u001b[0m\n\u001b[1;32m      5\u001b[0m \u001b[0;31m#print newDF.head() #again optional\u001b[0m\u001b[0;34m\u001b[0m\u001b[0;34m\u001b[0m\u001b[0m\n",
      "\u001b[0;31mNameError\u001b[0m: name 'oldDF' is not defined"
     ]
    }
   ],
   "source": [
    "import pandas as pd\n",
    "newDF = pd.DataFrame() #creates a new dataframe that's empty\n",
    "newDF = newDF.append(oldDF, ignore_index = True) # ignoring index is optional\n",
    "# try printing some data from newDF\n",
    "#print newDF.head() #again optional "
   ]
  },
  {
   "cell_type": "markdown",
   "metadata": {
    "collapsed": true
   },
   "source": [
    "---"
   ]
  },
  {
   "cell_type": "code",
   "execution_count": null,
   "metadata": {
    "collapsed": true
   },
   "outputs": [],
   "source": []
  }
 ],
 "metadata": {
  "kernelspec": {
   "display_name": "Python 3",
   "language": "python",
   "name": "python3"
  },
  "language_info": {
   "codemirror_mode": {
    "name": "ipython",
    "version": 3
   },
   "file_extension": ".py",
   "mimetype": "text/x-python",
   "name": "python",
   "nbconvert_exporter": "python",
   "pygments_lexer": "ipython3",
   "version": "3.6.3"
  }
 },
 "nbformat": 4,
 "nbformat_minor": 2
}
