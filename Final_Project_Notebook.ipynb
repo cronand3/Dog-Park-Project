{
 "cells": [
  {
   "cell_type": "markdown",
   "metadata": {},
   "source": [
    "# Dog Park \"Pupularity\" Patterns"
   ]
  },
  {
   "cell_type": "markdown",
   "metadata": {
    "collapsed": true
   },
   "source": [
    "### Sydney Smith, Jared Mohammed, Ally Cronander, & Marilyn Lalrindiki\n"
   ]
  },
  {
   "cell_type": "markdown",
   "metadata": {},
   "source": [
    "<img src=\"https://cdn.vox-cdn.com/thumbor/SF6piad06hSD8E9dKKLyJWPpTzY=/0x0:6500x2600/1200x800/filters:focal(3179x641:4219x1681)/cdn.vox-cdn.com/uploads/chorus_image/image/56352925/Fetch_Park_8.24.17.0.jpg\" width=400px>"
   ]
  },
  {
   "cell_type": "code",
   "execution_count": 3,
   "metadata": {},
   "outputs": [],
   "source": [
    "# For the Professors grading this notebook:\n",
    "#!git clone "
   ]
  },
  {
   "cell_type": "code",
   "execution_count": 1,
   "metadata": {},
   "outputs": [],
   "source": [
    "# import needed modules\n",
    "import pandas as pd\n",
    "import numpy as np\n",
    "import datetime as dt\n",
    "from datetime import time\n",
    "import matplotlib.pyplot as plt\n",
    "%matplotlib inline\n",
    "import random"
   ]
  },
  {
   "cell_type": "code",
   "execution_count": 2,
   "metadata": {},
   "outputs": [
    {
     "data": {
      "text/html": [
       "<div>\n",
       "<style scoped>\n",
       "    .dataframe tbody tr th:only-of-type {\n",
       "        vertical-align: middle;\n",
       "    }\n",
       "\n",
       "    .dataframe tbody tr th {\n",
       "        vertical-align: top;\n",
       "    }\n",
       "\n",
       "    .dataframe thead th {\n",
       "        text-align: right;\n",
       "    }\n",
       "</style>\n",
       "<table border=\"1\" class=\"dataframe\">\n",
       "  <thead>\n",
       "    <tr style=\"text-align: right;\">\n",
       "      <th></th>\n",
       "      <th>Unnamed: 0</th>\n",
       "      <th>names</th>\n",
       "      <th>times</th>\n",
       "      <th>valid</th>\n",
       "    </tr>\n",
       "  </thead>\n",
       "  <tbody>\n",
       "    <tr>\n",
       "      <th>0</th>\n",
       "      <td>0</td>\n",
       "      <td>bdjdaabeacjjbibbafjcjdjfaibib</td>\n",
       "      <td>1/1/2012   8:31:46AM</td>\n",
       "      <td>Valid Access</td>\n",
       "    </tr>\n",
       "    <tr>\n",
       "      <th>1</th>\n",
       "      <td>1</td>\n",
       "      <td>abjejijgjejjbiagjebib</td>\n",
       "      <td>1/1/2012  10:27:20AM</td>\n",
       "      <td>Valid Access</td>\n",
       "    </tr>\n",
       "    <tr>\n",
       "      <th>2</th>\n",
       "      <td>2</td>\n",
       "      <td>abjejijgjejjbiagjebib</td>\n",
       "      <td>1/1/2012  10:52:26AM</td>\n",
       "      <td>Valid Access</td>\n",
       "    </tr>\n",
       "    <tr>\n",
       "      <th>3</th>\n",
       "      <td>3</td>\n",
       "      <td>jeaajfaijijdjjbijdjcbdjcbbbbaabib</td>\n",
       "      <td>1/1/2012  10:52:48AM</td>\n",
       "      <td>Valid Access</td>\n",
       "    </tr>\n",
       "    <tr>\n",
       "      <th>4</th>\n",
       "      <td>4</td>\n",
       "      <td>jeaajfaijijdjjbijdjcbdjcbbbbaabib</td>\n",
       "      <td>1/1/2012  11:19:56AM</td>\n",
       "      <td>Valid Access</td>\n",
       "    </tr>\n",
       "  </tbody>\n",
       "</table>\n",
       "</div>"
      ],
      "text/plain": [
       "   Unnamed: 0                              names                 times  \\\n",
       "0           0      bdjdaabeacjjbibbafjcjdjfaibib  1/1/2012   8:31:46AM   \n",
       "1           1              abjejijgjejjbiagjebib  1/1/2012  10:27:20AM   \n",
       "2           2              abjejijgjejjbiagjebib  1/1/2012  10:52:26AM   \n",
       "3           3  jeaajfaijijdjjbijdjcbdjcbbbbaabib  1/1/2012  10:52:48AM   \n",
       "4           4  jeaajfaijijdjjbijdjcbdjcbbbbaabib  1/1/2012  11:19:56AM   \n",
       "\n",
       "          valid  \n",
       "0  Valid Access  \n",
       "1  Valid Access  \n",
       "2  Valid Access  \n",
       "3  Valid Access  \n",
       "4  Valid Access  "
      ]
     },
     "execution_count": 2,
     "metadata": {},
     "output_type": "execute_result"
    }
   ],
   "source": [
    "# load in & examine the data!\n",
    "dog_park = pd.read_csv(\"dogparkdata_2012to2018.csv\")\n",
    "dog_park.head()"
   ]
  },
  {
   "cell_type": "code",
   "execution_count": 4,
   "metadata": {},
   "outputs": [],
   "source": [
    "# make the data more readable\n",
    "# make dataframe into an array & split based on year\n",
    "dog_park_array = np.array(dog_park)\n",
    "data_2012 = dog_park_array[0:10891] #data from 2012\n",
    "data_2013 = dog_park_array[10891:20945] #data from 2013\n",
    "data_2014 = dog_park_array[20945: 32605] #data from 2014\n",
    "data_2015 = dog_park_array[32605: 49340] #data from 2015\n",
    "data_2016 = dog_park_array[49340:70150] #data from 2016\n",
    "data_2017 = dog_park_array[70150:87560] #data from 2017\n",
    "data_2018 = dog_park_array[87560:110066] #data from 2018"
   ]
  },
  {
   "cell_type": "code",
   "execution_count": 5,
   "metadata": {},
   "outputs": [],
   "source": [
    "# deal with the yucky date/time string\n",
    "# this function will create an array with the correct times in military time in the format [hour, minute, second]\n",
    "def correct_time(array):\n",
    "    '''\n",
    "    - This is a function that makes a string of time more readable\n",
    "    - inputs a string in the format 'month/day/time hour:minute:second AM or PM' \n",
    "    - outputs a time array the length of the initial array in the format [hour,minute,second] in military time\n",
    "    \n",
    "    '''\n",
    "    correct_times = []\n",
    "    for i in range(0,len(array)):\n",
    "        date_time = array[i][2] \n",
    "        time = date_time[-10:-2]\n",
    "        am_pm = date_time[-2]\n",
    "        minute = int(time[3:5])\n",
    "        second = int(time[6:8])\n",
    "        hour = int(time[0:2]) \n",
    "        if am_pm == 'A' and hour != 12:\n",
    "            correct_times.append([hour, minute,second])\n",
    "        elif am_pm == 'P'and hour != 12:\n",
    "            hour += 12\n",
    "            correct_times.append([hour, minute, second])\n",
    "        elif am_pm == 'A' and hour == 12:\n",
    "            hour = 0\n",
    "            correct_times.append([hour, minute, second])\n",
    "        elif am_pm == 'P' and hour == 12:\n",
    "            hour = 12\n",
    "            correct_times.append([hour,minute,second])\n",
    "    return(correct_times)"
   ]
  },
  {
   "cell_type": "code",
   "execution_count": 8,
   "metadata": {},
   "outputs": [],
   "source": [
    "# dealing with the yucky date/time string continued\n",
    "# this function will create an array with the correct date in the format [month, day, year]\n",
    "def correct_date(array):\n",
    "    '''\n",
    "    - This is a function that makes a string of times and dates more readable\n",
    "    - inputs a string in the format 'month/day/time hour:minute:second AM or PM' \n",
    "    - outputs a date array the length of the initial array in the format [month,day,year]\n",
    "    '''\n",
    "    correct_dates = []\n",
    "    for i in range(0, len(array)):\n",
    "        date_time = array[i][2]\n",
    "        date = date_time[0:10]\n",
    "        find_month = date.partition('/')\n",
    "        month = int(find_month[0])\n",
    "        find_day = find_month[2].partition('/')\n",
    "        day = int(find_day[0])\n",
    "        year = int(find_day[2])\n",
    "        correct_dates.append([month,day,year])\n",
    "    return(correct_dates)"
   ]
  },
  {
   "cell_type": "code",
   "execution_count": 9,
   "metadata": {},
   "outputs": [],
   "source": [
    "# Use the functions we just made to make easily readable arrays\n",
    "times_2012 = correct_time(data_2012)\n",
    "dates_2012 = correct_date(data_2012)\n",
    "times_2013 = correct_time(data_2013)\n",
    "dates_2013 = correct_date(data_2013)\n",
    "times_2014 = correct_time(data_2014)\n",
    "dates_2014 = correct_date(data_2014)\n",
    "times_2015 = correct_time(data_2015)\n",
    "dates_2015 = correct_date(data_2015)\n",
    "times_2016 = correct_time(data_2016)\n",
    "dates_2016 = correct_date(data_2016)\n",
    "times_2017 = correct_time(data_2017)\n",
    "dates_2017 = correct_date(data_2017)\n",
    "times_2018 = correct_time(data_2018)\n",
    "dates_2018 = correct_date(data_2018)"
   ]
  },
  {
   "cell_type": "code",
   "execution_count": 10,
   "metadata": {},
   "outputs": [
    {
     "data": {
      "text/plain": [
       "(1297, 1323)"
      ]
     },
     "execution_count": 10,
     "metadata": {},
     "output_type": "execute_result"
    }
   ],
   "source": [
    "def find_indices(month,day,year,date_array):\n",
    "    '''\n",
    "    - This is a function that takes in a date and finds the indices for that specific date\n",
    "    - Inputs:\n",
    "        - month, day, year : Integers for the date wanted\n",
    "        - date_array: This can be any array you want to find indices over\n",
    "    - Returns two values, the first value is the first time the date appears in the array, \n",
    "      the second value is the last time the date appears in the array\n",
    "    '''\n",
    "    begin = date_array.index([month,day,year])\n",
    "    end = date_array.index([month,day+1,year]) \n",
    "    return(begin,end)\n",
    "\n",
    "# example\n",
    "find_indices(2,14,2013, dates_2013)"
   ]
  }
 ],
 "metadata": {
  "kernelspec": {
   "display_name": "Python 3",
   "language": "python",
   "name": "python3"
  },
  "language_info": {
   "codemirror_mode": {
    "name": "ipython",
    "version": 3
   },
   "file_extension": ".py",
   "mimetype": "text/x-python",
   "name": "python",
   "nbconvert_exporter": "python",
   "pygments_lexer": "ipython3",
   "version": "3.6.5"
  }
 },
 "nbformat": 4,
 "nbformat_minor": 2
}
